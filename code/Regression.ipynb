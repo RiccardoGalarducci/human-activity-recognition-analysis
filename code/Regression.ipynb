{
 "cells": [
  {
   "cell_type": "markdown",
   "id": "666c92c5",
   "metadata": {},
   "source": [
    "# Regression Methods Ric"
   ]
  },
  {
   "cell_type": "markdown",
   "id": "132fb0da",
   "metadata": {},
   "source": [
    "**Goal of the Notebook**\n",
    "\n",
    "Select two continuous attributes, define a simple linear univariate regression problem and try to solve it using different techniques reporting various evaluation measures. Plot the two-dimensional dataset. Then generalize to multiple linear regression and observe how the performance varies. Solve it using linear regressions, regularized linear regressions (such as Lasso and Ridge) but also machine learning approaches such as Gradient Boosting Machines."
   ]
  },
  {
   "cell_type": "code",
   "execution_count": 1,
   "id": "1acdf11f",
   "metadata": {},
   "outputs": [],
   "source": [
    "import numpy as np\n",
    "import pandas as pd\n",
    "import matplotlib as mlt\n",
    "import matplotlib.pyplot as plt\n",
    "import seaborn as sns"
   ]
  },
  {
   "cell_type": "code",
   "execution_count": 2,
   "id": "05957754",
   "metadata": {},
   "outputs": [],
   "source": [
    "######## Hyperparameter Tuning #######\n",
    "from sklearn.model_selection import RandomizedSearchCV, GridSearchCV\n",
    "\n",
    "######## Evaluation #######\n",
    "from sklearn.metrics import r2_score, mean_squared_error, mean_absolute_error"
   ]
  },
  {
   "cell_type": "code",
   "execution_count": 3,
   "id": "a137b598",
   "metadata": {},
   "outputs": [],
   "source": [
    "df_train = pd.read_csv('csv/New_train.csv')\n",
    "df_test = pd.read_csv('csv/New_test.csv')"
   ]
  },
  {
   "cell_type": "code",
   "execution_count": 4,
   "id": "70d1863f",
   "metadata": {},
   "outputs": [],
   "source": [
    "to_drop_train = ['ActivityName','Activity','subject','Outlier_label', 'Class'] \n",
    "train = df_train.drop(to_drop_train, axis=1, inplace=False)\n",
    "\n",
    "to_drop_test = ['ActivityName','Activity','subject', 'Class'] \n",
    "test = df_test.drop(to_drop_test, axis=1, inplace=False)"
   ]
  },
  {
   "cell_type": "markdown",
   "id": "7512231d",
   "metadata": {},
   "source": [
    "***"
   ]
  },
  {
   "cell_type": "markdown",
   "id": "d5f6bfc4",
   "metadata": {},
   "source": [
    "## 1. Univariate problem"
   ]
  },
  {
   "cell_type": "code",
   "execution_count": 5,
   "id": "17a5acbe",
   "metadata": {},
   "outputs": [],
   "source": [
    "X_train = train.iloc[:,[0]].values # first column selected as independent variable \n",
    "X_test = test.iloc[:,[0]].values\n",
    "\n",
    "y_train = train.iloc[:,[1]].values # first column selected as dependent variable\n",
    "y_test = test.iloc[:,[1]].values"
   ]
  },
  {
   "cell_type": "markdown",
   "id": "f6b46450",
   "metadata": {},
   "source": [
    "### 1.1 Linear Regression"
   ]
  },
  {
   "cell_type": "code",
   "execution_count": 6,
   "id": "bb40098c",
   "metadata": {},
   "outputs": [],
   "source": [
    "from sklearn.linear_model import LinearRegression"
   ]
  },
  {
   "cell_type": "code",
   "execution_count": 7,
   "id": "5890e74f",
   "metadata": {},
   "outputs": [],
   "source": [
    "reg = LinearRegression()\n",
    "\n",
    "reg.fit(X = X_train, y = y_train)\n",
    "\n",
    "y_pred = reg.predict(X_test)"
   ]
  },
  {
   "cell_type": "code",
   "execution_count": 8,
   "id": "22c7886b",
   "metadata": {},
   "outputs": [
    {
     "name": "stdout",
     "output_type": "stream",
     "text": [
      "R2: -0.024\n",
      "MSE: 0.001\n",
      "MAE: 0.015\n"
     ]
    }
   ],
   "source": [
    "print('R2: %.3f' % r2_score(y_test, y_pred))\n",
    "print('MSE: %.3f' % mean_squared_error(y_test, y_pred))\n",
    "print('MAE: %.3f' % mean_absolute_error(y_test, y_pred))"
   ]
  },
  {
   "cell_type": "code",
   "execution_count": 9,
   "id": "601af822",
   "metadata": {},
   "outputs": [
    {
     "data": {
      "image/png": "[encoded data removed]",
      "text/plain": [
       "<Figure size 432x288 with 1 Axes>"
      ]
     },
     "metadata": {
      "needs_background": "light"
     },
     "output_type": "display_data"
    }
   ],
   "source": [
    "plt.scatter(X_test, y_test , color='black')\n",
    "plt.plot(X_test, y_pred, color='red', linewidth=2, label='test')\n",
    "plt.xlabel('tBodyAcc-mean()-X')\n",
    "plt.ylabel('tBodyAcc-mean()-Y')\n",
    "plt.show()"
   ]
  },
  {
   "cell_type": "code",
   "execution_count": 10,
   "id": "c2313bc5",
   "metadata": {},
   "outputs": [
    {
     "data": {
      "text/plain": [
       "array([-0.04130137])"
      ]
     },
     "execution_count": 10,
     "metadata": {},
     "output_type": "execute_result"
    }
   ],
   "source": [
    "reg.intercept_"
   ]
  },
  {
   "cell_type": "code",
   "execution_count": 11,
   "id": "ec23a7b2",
   "metadata": {},
   "outputs": [],
   "source": [
    "variance_predicted = 0\n",
    "for i , e in zip(y_test, y_pred):\n",
    "    variance_predicted += (i-e)**2"
   ]
  },
  {
   "cell_type": "code",
   "execution_count": 12,
   "id": "09d74017",
   "metadata": {},
   "outputs": [
    {
     "data": {
      "text/plain": [
       "array([2.00002912])"
      ]
     },
     "execution_count": 12,
     "metadata": {},
     "output_type": "execute_result"
    }
   ],
   "source": [
    "variance_predicted"
   ]
  },
  {
   "cell_type": "code",
   "execution_count": 18,
   "id": "7fac8e04",
   "metadata": {},
   "outputs": [
    {
     "data": {
      "text/plain": [
       "-0.017863400266845325"
      ]
     },
     "execution_count": 18,
     "metadata": {},
     "output_type": "execute_result"
    }
   ],
   "source": [
    "mean_y = np.mean(y_test)\n",
    "mean_y"
   ]
  },
  {
   "cell_type": "code",
   "execution_count": 19,
   "id": "9ad37cd5",
   "metadata": {},
   "outputs": [],
   "source": [
    "variance_model = 0\n",
    "for e in y_test:\n",
    "    variance_model += (e-mean_y)**2"
   ]
  },
  {
   "cell_type": "code",
   "execution_count": 20,
   "id": "3bf66eaa",
   "metadata": {},
   "outputs": [
    {
     "data": {
      "text/plain": [
       "array([1.95265872])"
      ]
     },
     "execution_count": 20,
     "metadata": {},
     "output_type": "execute_result"
    }
   ],
   "source": [
    "variance_model"
   ]
  },
  {
   "cell_type": "code",
   "execution_count": 21,
   "id": "a818bb2b",
   "metadata": {},
   "outputs": [
    {
     "data": {
      "text/plain": [
       "array([1.02425943])"
      ]
     },
     "execution_count": 21,
     "metadata": {},
     "output_type": "execute_result"
    }
   ],
   "source": [
    "variance_predicted / variance_model"
   ]
  },
  {
   "cell_type": "code",
   "execution_count": 23,
   "id": "1f144c8f",
   "metadata": {},
   "outputs": [
    {
     "data": {
      "text/plain": [
       "array([-0.02425943])"
      ]
     },
     "execution_count": 23,
     "metadata": {},
     "output_type": "execute_result"
    }
   ],
   "source": [
    "R2 = 1 - (variance_predicted / variance_model)\n",
    "R2"
   ]
  },
  {
   "cell_type": "markdown",
   "id": "00208e56",
   "metadata": {},
   "source": [
    "---"
   ]
  },
  {
   "cell_type": "markdown",
   "id": "6c5951b5",
   "metadata": {},
   "source": [
    "## 2. Multivariate problem"
   ]
  },
  {
   "cell_type": "code",
   "execution_count": 13,
   "id": "68aaa908",
   "metadata": {},
   "outputs": [
    {
     "data": {
      "text/plain": [
       "Index(['tBodyAcc-mean()-Y'], dtype='object')"
      ]
     },
     "execution_count": 13,
     "metadata": {},
     "output_type": "execute_result"
    }
   ],
   "source": [
    "test.iloc[:,[1]].columns # retrive the name of the attribute"
   ]
  },
  {
   "cell_type": "code",
   "execution_count": 14,
   "id": "804cfa17",
   "metadata": {},
   "outputs": [],
   "source": [
    "attributes = [col for col in train.columns if col != 'tBodyAcc-mean()-Y']\n",
    "\n",
    "X_train = train[attributes].values\n",
    "y_train = train['tBodyAcc-mean()-Y'].values\n",
    "\n",
    "X_test = test[attributes].values\n",
    "y_test = test['tBodyAcc-mean()-Y'].values"
   ]
  },
  {
   "cell_type": "markdown",
   "id": "1c8a8b4d",
   "metadata": {},
   "source": [
    "### 2.1 Linear Regression"
   ]
  },
  {
   "cell_type": "code",
   "execution_count": 15,
   "id": "2cc61515",
   "metadata": {},
   "outputs": [
    {
     "data": {
      "text/plain": [
       "LinearRegression()"
      ]
     },
     "execution_count": 15,
     "metadata": {},
     "output_type": "execute_result"
    }
   ],
   "source": [
    "reg = LinearRegression()\n",
    "\n",
    "reg.fit(X_train, y_train)"
   ]
  },
  {
   "cell_type": "code",
   "execution_count": 16,
   "id": "7ba3004a",
   "metadata": {},
   "outputs": [],
   "source": [
    "y_pred = reg.predict(X_test)"
   ]
  },
  {
   "cell_type": "code",
   "execution_count": 17,
   "id": "5d385c0c",
   "metadata": {},
   "outputs": [
    {
     "name": "stdout",
     "output_type": "stream",
     "text": [
      "R2: 0.238\n",
      "MSE: 0.001\n",
      "MAE: 0.016\n"
     ]
    }
   ],
   "source": [
    "print('R2: %.3f' % r2_score(y_test, y_pred))\n",
    "print('MSE: %.3f' % mean_squared_error(y_test, y_pred))\n",
    "print('MAE: %.3f' % mean_absolute_error(y_test, y_pred))"
   ]
  },
  {
   "cell_type": "markdown",
   "id": "d95403a2",
   "metadata": {},
   "source": [
    "### 2.2 Lasso"
   ]
  },
  {
   "cell_type": "code",
   "execution_count": 18,
   "id": "7493b665",
   "metadata": {},
   "outputs": [],
   "source": [
    "from sklearn.linear_model import Lasso"
   ]
  },
  {
   "cell_type": "code",
   "execution_count": 19,
   "id": "a5f9faf7",
   "metadata": {},
   "outputs": [
    {
     "data": {
      "text/plain": [
       "Lasso()"
      ]
     },
     "execution_count": 19,
     "metadata": {},
     "output_type": "execute_result"
    }
   ],
   "source": [
    "reg = Lasso()\n",
    "reg.fit(X_train, y_train)"
   ]
  },
  {
   "cell_type": "code",
   "execution_count": 20,
   "id": "2348d1cc",
   "metadata": {},
   "outputs": [
    {
     "name": "stdout",
     "output_type": "stream",
     "text": [
      "R2: -0.000\n",
      "MSE: 0.001\n",
      "MAE: 0.015\n"
     ]
    }
   ],
   "source": [
    "y_pred = reg.predict(X_test)\n",
    "\n",
    "print('R2: %.3f' % r2_score(y_test, y_pred))\n",
    "print('MSE: %.3f' % mean_squared_error(y_test, y_pred))\n",
    "print('MAE: %.3f' % mean_absolute_error(y_test, y_pred))"
   ]
  },
  {
   "cell_type": "markdown",
   "id": "dc832cf4",
   "metadata": {},
   "source": [
    "### 2.3 Ridge"
   ]
  },
  {
   "cell_type": "code",
   "execution_count": 21,
   "id": "ef8015c7",
   "metadata": {},
   "outputs": [],
   "source": [
    "from sklearn.linear_model import Ridge"
   ]
  },
  {
   "cell_type": "code",
   "execution_count": 22,
   "id": "a29a2f95",
   "metadata": {},
   "outputs": [
    {
     "data": {
      "text/plain": [
       "Ridge()"
      ]
     },
     "execution_count": 22,
     "metadata": {},
     "output_type": "execute_result"
    }
   ],
   "source": [
    "reg = Ridge()\n",
    "reg.fit(X_train, y_train)"
   ]
  },
  {
   "cell_type": "code",
   "execution_count": 23,
   "id": "5382f17d",
   "metadata": {},
   "outputs": [
    {
     "name": "stdout",
     "output_type": "stream",
     "text": [
      "R2: 0.275\n",
      "MSE: 0.000\n",
      "MAE: 0.016\n"
     ]
    }
   ],
   "source": [
    "y_pred = reg.predict(X_test)\n",
    "\n",
    "print('R2: %.3f' % r2_score(y_test, y_pred))\n",
    "print('MSE: %.3f' % mean_squared_error(y_test, y_pred))\n",
    "print('MAE: %.3f' % mean_absolute_error(y_test, y_pred))"
   ]
  },
  {
   "cell_type": "markdown",
   "id": "b956e7ba",
   "metadata": {},
   "source": [
    "### 2.4 Gradient Boosting Regressor"
   ]
  },
  {
   "cell_type": "code",
   "execution_count": 38,
   "id": "1d52215b",
   "metadata": {},
   "outputs": [],
   "source": [
    "from sklearn.ensemble import GradientBoostingRegressor"
   ]
  },
  {
   "cell_type": "code",
   "execution_count": 39,
   "id": "b76f897d",
   "metadata": {},
   "outputs": [
    {
     "data": {
      "text/plain": [
       "GradientBoostingRegressor(random_state=0)"
      ]
     },
     "execution_count": 39,
     "metadata": {},
     "output_type": "execute_result"
    }
   ],
   "source": [
    "reg = GradientBoostingRegressor(random_state=0)\n",
    "reg.fit(X_train, y_train)"
   ]
  },
  {
   "cell_type": "code",
   "execution_count": 40,
   "id": "16239b02",
   "metadata": {},
   "outputs": [
    {
     "name": "stdout",
     "output_type": "stream",
     "text": [
      "R2: 0.574\n",
      "MSE: 0.000\n",
      "MAE: 0.009\n"
     ]
    }
   ],
   "source": [
    "y_pred = reg.predict(X_test)\n",
    "\n",
    "print('R2: %.3f' % r2_score(y_test, y_pred))\n",
    "print('MSE: %.3f' % mean_squared_error(y_test, y_pred))\n",
    "print('MAE: %.3f' % mean_absolute_error(y_test, y_pred))"
   ]
  },
  {
   "cell_type": "code",
   "execution_count": 41,
   "id": "7821845a",
   "metadata": {},
   "outputs": [
    {
     "data": {
      "image/png": "[encoded data removed]",
      "text/plain": [
       "<Figure size 432x288 with 1 Axes>"
      ]
     },
     "metadata": {
      "needs_background": "light"
     },
     "output_type": "display_data"
    }
   ],
   "source": [
    "nbr_features = 15\n",
    "\n",
    "gb_feature_importances = reg.feature_importances_ \n",
    "sorted_idx = gb_feature_importances.argsort()[-nbr_features:]\n",
    "\n",
    "y_ticks = np.arange(0, len(sorted_idx))\n",
    "fig, ax = plt.subplots()\n",
    "plt.barh(y_ticks, gb_feature_importances[sorted_idx])\n",
    "plt.yticks(y_ticks, np.array(df_train.columns)[sorted_idx])\n",
    "plt.title(\"GradientBoosting Regressor Feture Importances\")\n",
    "plt.show()"
   ]
  },
  {
   "cell_type": "markdown",
   "id": "fbabdd34",
   "metadata": {},
   "source": [
    "### 2.5 Random Forest Regressor"
   ]
  },
  {
   "cell_type": "code",
   "execution_count": 42,
   "id": "63aab867",
   "metadata": {},
   "outputs": [],
   "source": [
    "from sklearn.ensemble import RandomForestRegressor"
   ]
  },
  {
   "cell_type": "code",
   "execution_count": 43,
   "id": "9945d8bf",
   "metadata": {},
   "outputs": [
    {
     "data": {
      "text/plain": [
       "RandomForestRegressor(max_depth=2, random_state=0)"
      ]
     },
     "execution_count": 43,
     "metadata": {},
     "output_type": "execute_result"
    }
   ],
   "source": [
    "reg = RandomForestRegressor(max_depth=2, \n",
    "                            random_state=0,\n",
    "                            criterion ='squared_error')\n",
    "reg.fit(X_train, y_train)"
   ]
  },
  {
   "cell_type": "code",
   "execution_count": 44,
   "id": "916dedf1",
   "metadata": {},
   "outputs": [
    {
     "name": "stdout",
     "output_type": "stream",
     "text": [
      "R2: 0.007\n",
      "MSE: 0.001\n",
      "MAE: 0.015\n"
     ]
    }
   ],
   "source": [
    "y_pred = reg.predict(X_test)\n",
    "\n",
    "print('R2: %.3f' % r2_score(y_test, y_pred))\n",
    "print('MSE: %.3f' % mean_squared_error(y_test, y_pred))\n",
    "print('MAE: %.3f' % mean_absolute_error(y_test, y_pred))"
   ]
  },
  {
   "cell_type": "code",
   "execution_count": 45,
   "id": "f3c0b561",
   "metadata": {},
   "outputs": [
    {
     "data": {
      "image/png": "[encoded data removed]",
      "text/plain": [
       "<Figure size 432x288 with 1 Axes>"
      ]
     },
     "metadata": {
      "needs_background": "light"
     },
     "output_type": "display_data"
    }
   ],
   "source": [
    "nbr_features = 15\n",
    "\n",
    "feature_importances = reg.feature_importances_ \n",
    "sorted_idx = feature_importances.argsort()[-nbr_features:]\n",
    "\n",
    "y_ticks = np.arange(0, len(sorted_idx))\n",
    "fig, ax = plt.subplots()\n",
    "plt.barh(y_ticks, feature_importances[sorted_idx])\n",
    "plt.yticks(y_ticks, np.array(df_train.columns)[sorted_idx])\n",
    "plt.title(\"RandomForest Regressor Feture Importances\")\n",
    "plt.show()"
   ]
  },
  {
   "cell_type": "markdown",
   "id": "7c4c9f8c",
   "metadata": {},
   "source": [
    "### 2.6 Multi-Layer Perceptron Regressor"
   ]
  },
  {
   "cell_type": "code",
   "execution_count": 46,
   "id": "5ff9cea0",
   "metadata": {},
   "outputs": [],
   "source": [
    "from sklearn.neural_network import MLPRegressor"
   ]
  },
  {
   "cell_type": "code",
   "execution_count": 47,
   "id": "beba6ee8",
   "metadata": {},
   "outputs": [],
   "source": [
    "from sklearn.preprocessing import StandardScaler"
   ]
  },
  {
   "cell_type": "code",
   "execution_count": 48,
   "id": "47dee748",
   "metadata": {},
   "outputs": [],
   "source": [
    "scaler = StandardScaler()\n",
    "scaler.fit(X_train)\n",
    "X_train = scaler.transform(X_train)\n",
    "X_test = scaler.transform(X_test)"
   ]
  },
  {
   "cell_type": "code",
   "execution_count": 49,
   "id": "d392f291",
   "metadata": {},
   "outputs": [],
   "source": [
    "reg = MLPRegressor( solver = 'sgd',\n",
    "                    hidden_layer_sizes=(128, 64, 32,),\n",
    "                    random_state=0, \n",
    "                    activation = 'tanh',\n",
    "                    learning_rate = 'adaptive',\n",
    "                    early_stopping=True, \n",
    "                    momentum=0.9\n",
    "                    )"
   ]
  },
  {
   "cell_type": "code",
   "execution_count": 52,
   "id": "89f2bda2",
   "metadata": {},
   "outputs": [
    {
     "name": "stderr",
     "output_type": "stream",
     "text": [
      "/Users/riccardo/opt/anaconda3/lib/python3.8/site-packages/sklearn/neural_network/_multilayer_perceptron.py:692: ConvergenceWarning: Stochastic Optimizer: Maximum iterations (200) reached and the optimization hasn't converged yet.\n",
      "  warnings.warn(\n"
     ]
    },
    {
     "data": {
      "text/plain": [
       "MLPRegressor(activation='tanh', early_stopping=True,\n",
       "             hidden_layer_sizes=(128, 64, 32), learning_rate='adaptive',\n",
       "             random_state=0, solver='sgd')"
      ]
     },
     "execution_count": 52,
     "metadata": {},
     "output_type": "execute_result"
    }
   ],
   "source": [
    "reg.fit(X_train, y_train)"
   ]
  },
  {
   "cell_type": "code",
   "execution_count": 53,
   "id": "aff8c0cc",
   "metadata": {},
   "outputs": [
    {
     "name": "stdout",
     "output_type": "stream",
     "text": [
      "R2: -3.467\n",
      "MSE: 0.003\n",
      "MAE: 0.038\n"
     ]
    }
   ],
   "source": [
    "y_pred = reg.predict(X_test)\n",
    "\n",
    "print('R2: %.3f' % r2_score(y_test, y_pred))\n",
    "print('MSE: %.3f' % mean_squared_error(y_test, y_pred))\n",
    "print('MAE: %.3f' % mean_absolute_error(y_test, y_pred))"
   ]
  }
 ],
 "metadata": {
  "kernelspec": {
   "display_name": "Python 3",
   "language": "python",
   "name": "python3"
  },
  "language_info": {
   "codemirror_mode": {
    "name": "ipython",
    "version": 3
   },
   "file_extension": ".py",
   "mimetype": "text/x-python",
   "name": "python",
   "nbconvert_exporter": "python",
   "pygments_lexer": "ipython3",
   "version": "3.8.8"
  }
 },
 "nbformat": 4,
 "nbformat_minor": 5
}
