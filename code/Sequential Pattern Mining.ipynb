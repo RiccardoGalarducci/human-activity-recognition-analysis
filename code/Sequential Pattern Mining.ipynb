{
 "cells": [
  {
   "cell_type": "markdown",
   "id": "b8f1d31b",
   "metadata": {},
   "source": [
    "# SEQUENTIAL PATTERN MINING"
   ]
  },
  {
   "cell_type": "code",
   "execution_count": 2,
   "id": "6e13565f",
   "metadata": {},
   "outputs": [],
   "source": [
    "#### Importing Libraries\n",
    "import numpy as np\n",
    "import pandas as pd\n",
    "from matplotlib import cm\n",
    "import matplotlib.pyplot as plt\n",
    "import seaborn as sns"
   ]
  },
  {
   "cell_type": "code",
   "execution_count": 3,
   "id": "6c6efccf",
   "metadata": {},
   "outputs": [
    {
     "name": "stdout",
     "output_type": "stream",
     "text": [
      "(7352, 128, 9) (7352, 1)\n",
      "(2947, 128, 9) (2947, 1)\n"
     ]
    }
   ],
   "source": [
    "# load dataset\n",
    "from numpy import dstack\n",
    "from pandas import read_csv\n",
    " \n",
    "# load a single file as a numpy array\n",
    "def load_file(filepath):\n",
    "    dataframe = pd.read_csv(filepath, header=None, delim_whitespace=True)\n",
    "    return dataframe.values\n",
    " \n",
    "# load a list of files, such as x, y, z data for a given variable\n",
    "def load_group(filenames, prefix=''):\n",
    "    loaded = list()\n",
    "    for name in filenames:\n",
    "        data = load_file(prefix + name)\n",
    "        loaded.append(data)\n",
    "    # stack group so that features are the 3rd dimension\n",
    "    loaded = np.dstack(loaded)\n",
    "    return loaded\n",
    " \n",
    "# load a dataset group, such as train or test\n",
    "def load_dataset(group):\n",
    "    filepath = group + '/Inertial Signals/'\n",
    "    # load all 9 files as a single array\n",
    "    filenames = list()\n",
    "    # total acceleration\n",
    "    filenames += ['total_acc_x_'+group+'.txt', 'total_acc_y_'+group+'.txt', 'total_acc_z_'+group+'.txt']\n",
    "    # body acceleration\n",
    "    filenames += ['body_acc_x_'+group+'.txt', 'body_acc_y_'+group+'.txt', 'body_acc_z_'+group+'.txt']\n",
    "    # body gyroscope\n",
    "    filenames += ['body_gyro_x_'+group+'.txt', 'body_gyro_y_'+group+'.txt', 'body_gyro_z_'+group+'.txt']\n",
    "    # load input data\n",
    "    X = load_group(filenames, filepath)\n",
    "    # load class output\n",
    "    y = load_file(group + '/y_'+group+'.txt')\n",
    "    return X, y\n",
    " \n",
    "# load all train\n",
    "X_train, y_train = load_dataset('train')\n",
    "print(X_train.shape, y_train.shape)\n",
    "\n",
    "# load all test\n",
    "X_test, y_test = load_dataset('test')\n",
    "print(X_test.shape, y_test.shape)"
   ]
  },
  {
   "cell_type": "code",
   "execution_count": 4,
   "id": "4cf818e6",
   "metadata": {},
   "outputs": [],
   "source": [
    "# tot_acc_x\n",
    "X_train = X_train[:,:,0]\n",
    "X_test  = X_test[:,:,0]  "
   ]
  },
  {
   "cell_type": "code",
   "execution_count": 6,
   "id": "2cbb29bb",
   "metadata": {},
   "outputs": [
    {
     "name": "stdout",
     "output_type": "stream",
     "text": [
      "X_train shape: (7352, 128)\n",
      "X_test shape: (2947, 128)\n"
     ]
    }
   ],
   "source": [
    "print('X_train shape:', X_train.shape)\n",
    "print('X_test shape:', X_test.shape)"
   ]
  },
  {
   "cell_type": "code",
   "execution_count": 8,
   "id": "c8de0226",
   "metadata": {},
   "outputs": [],
   "source": [
    "from tslearn.preprocessing import TimeSeriesScalerMeanVariance\n",
    "from tslearn.piecewise import SymbolicAggregateApproximation"
   ]
  },
  {
   "cell_type": "code",
   "execution_count": 28,
   "id": "03702c2a",
   "metadata": {},
   "outputs": [
    {
     "data": {
      "text/plain": [
       "(7352, 128)"
      ]
     },
     "execution_count": 28,
     "metadata": {},
     "output_type": "execute_result"
    }
   ],
   "source": [
    "X_train.shape"
   ]
  },
  {
   "cell_type": "code",
   "execution_count": 9,
   "id": "069459a5",
   "metadata": {},
   "outputs": [],
   "source": [
    "scaler = TimeSeriesScalerMeanVariance(mu=0., std=1.)  # Rescale time series"
   ]
  },
  {
   "cell_type": "code",
   "execution_count": 12,
   "id": "726bbb12",
   "metadata": {},
   "outputs": [],
   "source": [
    "X_scaled = scaler.fit_transform(X_train)"
   ]
  },
  {
   "cell_type": "code",
   "execution_count": 13,
   "id": "8d5fd69c",
   "metadata": {},
   "outputs": [
    {
     "data": {
      "text/plain": [
       "(7352, 128)"
      ]
     },
     "execution_count": 13,
     "metadata": {},
     "output_type": "execute_result"
    }
   ],
   "source": [
    "X_train.shape"
   ]
  },
  {
   "cell_type": "code",
   "execution_count": 97,
   "id": "2ad57a84",
   "metadata": {},
   "outputs": [],
   "source": [
    "# SAX transform\n",
    "n_paa_segments = 12\n",
    "n_sax_symbols = 8\n",
    "sax = SymbolicAggregateApproximation(n_segments=n_paa_segments, alphabet_size_avg=n_sax_symbols)"
   ]
  },
  {
   "cell_type": "code",
   "execution_count": 98,
   "id": "6650d0c5",
   "metadata": {},
   "outputs": [],
   "source": [
    "X_sax = sax.fit_transform(X_scaled)"
   ]
  },
  {
   "cell_type": "code",
   "execution_count": 99,
   "id": "b177f4d0",
   "metadata": {},
   "outputs": [
    {
     "data": {
      "text/plain": [
       "(7352, 12, 1)"
      ]
     },
     "execution_count": 99,
     "metadata": {},
     "output_type": "execute_result"
    }
   ],
   "source": [
    "X_sax.shape"
   ]
  },
  {
   "cell_type": "code",
   "execution_count": 100,
   "id": "30bb0531",
   "metadata": {},
   "outputs": [],
   "source": [
    "X_seq = list()\n",
    "for x in X_sax:\n",
    "    X_seq.append(x.ravel())"
   ]
  },
  {
   "cell_type": "code",
   "execution_count": 101,
   "id": "96639398",
   "metadata": {},
   "outputs": [
    {
     "data": {
      "text/plain": [
       "7352"
      ]
     },
     "execution_count": 101,
     "metadata": {},
     "output_type": "execute_result"
    }
   ],
   "source": [
    "len(X_seq)"
   ]
  },
  {
   "cell_type": "code",
   "execution_count": 102,
   "id": "3c79db92",
   "metadata": {},
   "outputs": [],
   "source": [
    "from prefixspan import PrefixSpan"
   ]
  },
  {
   "cell_type": "code",
   "execution_count": 103,
   "id": "eacadaa6",
   "metadata": {},
   "outputs": [
    {
     "name": "stdout",
     "output_type": "stream",
     "text": [
      "Help on class PrefixSpan in module prefixspan.prefixspan:\n",
      "\n",
      "class PrefixSpan(builtins.object)\n",
      " |  PrefixSpan(db)\n",
      " |  \n",
      " |  Methods defined here:\n",
      " |  \n",
      " |  __init__(self, db)\n",
      " |      Initialize self.  See help(type(self)) for accurate signature.\n",
      " |  \n",
      " |  defaultkey lambda patt, matches\n",
      " |  \n",
      " |  frequent = PrefixSpan_frequent(self, minsup, closed=False, generator=False, key=None, bound=None, filter=None, callback=None)\n",
      " |  \n",
      " |  topk = PrefixSpan_topk(self, k, closed=False, generator=False, key=None, bound=None, filter=None, callback=None)\n",
      " |  \n",
      " |  ----------------------------------------------------------------------\n",
      " |  Data descriptors defined here:\n",
      " |  \n",
      " |  __dict__\n",
      " |      dictionary for instance variables (if defined)\n",
      " |  \n",
      " |  __weakref__\n",
      " |      list of weak references to the object (if defined)\n",
      "\n"
     ]
    }
   ],
   "source": [
    "help(PrefixSpan)"
   ]
  },
  {
   "cell_type": "code",
   "execution_count": 104,
   "id": "91a6f30a",
   "metadata": {},
   "outputs": [],
   "source": [
    "ps = PrefixSpan(X_seq)"
   ]
  },
  {
   "cell_type": "code",
   "execution_count": 108,
   "id": "db772354",
   "metadata": {},
   "outputs": [
    {
     "data": {
      "text/plain": [
       "526"
      ]
     },
     "execution_count": 108,
     "metadata": {},
     "output_type": "execute_result"
    }
   ],
   "source": [
    "patterns_80 = ps.frequent(7352*0.10) # min_sup\n",
    "listafreq_80 = []\n",
    "for idx, i in enumerate(patterns_80):\n",
    "    if len(patterns_80[idx][1])>=4:\n",
    "        listafreq_80.append(i)\n",
    "len(listafreq_80)"
   ]
  },
  {
   "cell_type": "code",
   "execution_count": 116,
   "id": "2a30d294",
   "metadata": {},
   "outputs": [
    {
     "data": {
      "text/plain": [
       "[(1250, [4, 4, 4, 4]),\n",
       " (1239, [2, 2, 2, 2]),\n",
       " (1221, [4, 4, 4, 3]),\n",
       " (1218, [3, 3, 3, 3]),\n",
       " (1209, [4, 4, 3, 3]),\n",
       " (1209, [2, 2, 2, 6]),\n",
       " (1209, [2, 6, 2, 2]),\n",
       " (1198, [4, 3, 3, 3]),\n",
       " (1197, [2, 2, 6, 2]),\n",
       " (1189, [6, 2, 2, 2])]"
      ]
     },
     "execution_count": 116,
     "metadata": {},
     "output_type": "execute_result"
    }
   ],
   "source": [
    "new_list = sorted(listafreq_80, key = lambda x: x[0], reverse=True)\n",
    "new_list[:10]"
   ]
  },
  {
   "cell_type": "code",
   "execution_count": null,
   "id": "86cab396",
   "metadata": {},
   "outputs": [],
   "source": [
    "# patterns_80 = ps.frequent(7352*0.) # min_sup\n",
    "listafreq_80 = []\n",
    "for idx, i in enumerate(patterns_80):\n",
    "    if len(patterns_80[idx][1])>=4:\n",
    "        listafreq_80.append(i)\n",
    "len(listafreq_80)"
   ]
  },
  {
   "cell_type": "code",
   "execution_count": 113,
   "id": "5b9854e3",
   "metadata": {},
   "outputs": [
    {
     "data": {
      "text/plain": [
       "[(1250, [4, 4, 4, 4]),\n",
       " (1239, [2, 2, 2, 2]),\n",
       " (1221, [4, 4, 4, 3]),\n",
       " (1218, [3, 3, 3, 3]),\n",
       " (1209, [4, 4, 3, 3]),\n",
       " (1209, [2, 2, 2, 6]),\n",
       " (1209, [2, 6, 2, 2]),\n",
       " (1198, [4, 3, 3, 3]),\n",
       " (1197, [2, 2, 6, 2]),\n",
       " (1189, [6, 2, 2, 2])]"
      ]
     },
     "execution_count": 113,
     "metadata": {},
     "output_type": "execute_result"
    }
   ],
   "source": [
    "new_list = sorted(listafreq_80, key = lambda x: x[0], reverse=True)\n",
    "new_list[:10]"
   ]
  },
  {
   "cell_type": "code",
   "execution_count": null,
   "id": "8c137fbe",
   "metadata": {},
   "outputs": [],
   "source": []
  }
 ],
 "metadata": {
  "kernelspec": {
   "display_name": "Python 3",
   "language": "python",
   "name": "python3"
  },
  "language_info": {
   "codemirror_mode": {
    "name": "ipython",
    "version": 3
   },
   "file_extension": ".py",
   "mimetype": "text/x-python",
   "name": "python",
   "nbconvert_exporter": "python",
   "pygments_lexer": "ipython3",
   "version": "3.8.8"
  }
 },
 "nbformat": 4,
 "nbformat_minor": 5
}
