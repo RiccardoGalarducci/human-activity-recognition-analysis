{
 "cells": [
  {
   "cell_type": "markdown",
   "id": "21117e33",
   "metadata": {},
   "source": [
    "# Time Series - Classification"
   ]
  },
  {
   "cell_type": "markdown",
   "id": "143bf05a",
   "metadata": {},
   "source": [
    "**Classification task** on the time series dataset(s) and evaluation of the result. \n",
    "\n",
    "    1 shapelet-based classifiers\n",
    "    2 structural-based classifiers"
   ]
  },
  {
   "cell_type": "code",
   "execution_count": 1,
   "id": "e879230d",
   "metadata": {},
   "outputs": [],
   "source": [
    "#### Importing Libraries\n",
    "import numpy as np\n",
    "import pandas as pd\n",
    "from matplotlib import cm\n",
    "import matplotlib.pyplot as plt\n",
    "import seaborn as sns"
   ]
  },
  {
   "cell_type": "markdown",
   "id": "8f591250",
   "metadata": {},
   "source": [
    "### Load Raw Data\n",
    "\n",
    "There are three main signal types in the raw data: **total acceleration**, **body acceleration**, and **body gyroscope**. Each has 3 axises of data (x, y, z). This means that there are a total of nine variables for each time step.\n",
    "\n",
    "Further, each series of data has been partitioned into overlapping windows of 2.56 seconds of data, or 128 time steps. These windows of data correspond to the windows of engineered features (rows) in the previous section.\n",
    "\n",
    "This means that one row of data has (128 * 9), or 1,152 elements. This is a little less than double the size of the 561 element vectors in the previous section and it is likely that there is some redundant data."
   ]
  },
  {
   "cell_type": "markdown",
   "id": "26c23d61",
   "metadata": {},
   "source": [
    "Link on how to import the data: https://machinelearningmastery.com/how-to-model-human-activity-from-smartphone-data/"
   ]
  },
  {
   "cell_type": "code",
   "execution_count": 2,
   "id": "5e7000d7",
   "metadata": {},
   "outputs": [
    {
     "name": "stdout",
     "output_type": "stream",
     "text": [
      "(7352, 128, 9) (7352, 1)\n",
      "(2947, 128, 9) (2947, 1)\n"
     ]
    }
   ],
   "source": [
    "# load dataset\n",
    "from numpy import dstack\n",
    "from pandas import read_csv\n",
    " \n",
    "# load a single file as a numpy array\n",
    "def load_file(filepath):\n",
    "    dataframe = pd.read_csv(filepath, header=None, delim_whitespace=True)\n",
    "    return dataframe.values\n",
    " \n",
    "# load a list of files, such as x, y, z data for a given variable\n",
    "def load_group(filenames, prefix=''):\n",
    "    loaded = list()\n",
    "    for name in filenames:\n",
    "        data = load_file(prefix + name)\n",
    "        loaded.append(data)\n",
    "    # stack group so that features are the 3rd dimension\n",
    "    loaded = np.dstack(loaded)\n",
    "    return loaded\n",
    " \n",
    "# load a dataset group, such as train or test\n",
    "def load_dataset(group):\n",
    "    filepath = group + '/Inertial Signals/'\n",
    "    # load all 9 files as a single array\n",
    "    filenames = list()\n",
    "    # total acceleration\n",
    "    filenames += ['total_acc_x_'+group+'.txt', 'total_acc_y_'+group+'.txt', 'total_acc_z_'+group+'.txt']\n",
    "    # body acceleration\n",
    "    filenames += ['body_acc_x_'+group+'.txt', 'body_acc_y_'+group+'.txt', 'body_acc_z_'+group+'.txt']\n",
    "    # body gyroscope\n",
    "    filenames += ['body_gyro_x_'+group+'.txt', 'body_gyro_y_'+group+'.txt', 'body_gyro_z_'+group+'.txt']\n",
    "    # load input data\n",
    "    X = load_group(filenames, filepath)\n",
    "    # load class output\n",
    "    y = load_file(group + '/y_'+group+'.txt')\n",
    "    return X, y\n",
    " \n",
    "# load all train\n",
    "X_train, y_train = load_dataset('train')\n",
    "print(X_train.shape, y_train.shape)\n",
    "\n",
    "# load all test\n",
    "X_test, y_test = load_dataset('test')\n",
    "print(X_test.shape, y_test.shape)"
   ]
  },
  {
   "cell_type": "code",
   "execution_count": 3,
   "id": "404a0004",
   "metadata": {},
   "outputs": [
    {
     "name": "stdout",
     "output_type": "stream",
     "text": [
      "7352 training series (with 50% overlap between each serie)\n",
      "128 timesteps per series\n",
      "9 attributes per timestep\n"
     ]
    }
   ],
   "source": [
    "print(len(X_train), 'training series (with 50% overlap between each serie)')\n",
    "print(len(X_train[0]), 'timesteps per series')\n",
    "print(len(X_train[0][0]), 'attributes per timestep')"
   ]
  },
  {
   "cell_type": "code",
   "execution_count": 4,
   "id": "dae0a8d1",
   "metadata": {},
   "outputs": [],
   "source": [
    "# tot_acc_x\n",
    "X_train = X_train[:,:,0]\n",
    "X_test  = X_test[:,:,0]  "
   ]
  },
  {
   "cell_type": "code",
   "execution_count": 5,
   "id": "82b4cae2",
   "metadata": {},
   "outputs": [
    {
     "name": "stdout",
     "output_type": "stream",
     "text": [
      "X_train shape: (7352, 128)\n",
      "X_test shape: (2947, 128)\n"
     ]
    }
   ],
   "source": [
    "print('X_train shape:', X_train.shape)\n",
    "print('X_test shape:', X_test.shape)"
   ]
  },
  {
   "cell_type": "markdown",
   "id": "931d9ec2",
   "metadata": {},
   "source": [
    "---"
   ]
  },
  {
   "cell_type": "markdown",
   "id": "febbfa8c",
   "metadata": {},
   "source": [
    "# Shapelet-based classifiers"
   ]
  },
  {
   "cell_type": "markdown",
   "id": "e8ce3fbe",
   "metadata": {},
   "source": [
    "https://tslearn.readthedocs.io/en/stable/gen_modules/tslearn.shapelets.html#module-tslearn.shapelets"
   ]
  },
  {
   "cell_type": "code",
   "execution_count": 6,
   "id": "df442ed2",
   "metadata": {},
   "outputs": [],
   "source": [
    "import tensorflow as tf\n",
    "from sklearn.metrics import classification_report\n",
    "\n",
    "from pyts.preprocessing import RobustScaler\n",
    "from tslearn.shapelets import LearningShapelets, grabocka_params_to_shapelet_size_dict\n",
    "from tslearn.utils import ts_size"
   ]
  },
  {
   "cell_type": "raw",
   "id": "8ee3a0a6",
   "metadata": {},
   "source": [
    "# Normalize each of the timeseries in the dataset\n",
    "X_train_n = RobustScaler().fit_transform(X_train)\n",
    "X_test_n = RobustScaler().fit_transform(X_test)"
   ]
  },
  {
   "cell_type": "markdown",
   "id": "bbe669a5",
   "metadata": {},
   "source": [
    "**Parameters**\n",
    "\n",
    "- **n_ts**: int Number of time series in the dataset\n",
    "\n",
    "- **ts_sz**: int Length of time series in the dataset\n",
    "\n",
    "- **n_classes**: int Number of classes in the dataset\n",
    "\n",
    "- **l**: float Fraction of the length of time series to be used for base shapelet length\n",
    "\n",
    "- **r**: int Number of different shapelet lengths to use\n",
    "\n",
    "**Returns:\t**\n",
    "\n",
    "- **dict**: Dictionary giving, for each shapelet length, the number of such shapelets to be generated\n"
   ]
  },
  {
   "cell_type": "code",
   "execution_count": 7,
   "id": "9b601f22",
   "metadata": {},
   "outputs": [],
   "source": [
    "# Get statistics of the dataset\n",
    "n_ts, ts_sz = X_train.shape[:2]\n",
    "n_classes = len(np.unique(y_train))\n",
    "\n",
    "# Set the number of shapelets per size as done in the original paper\n",
    "shapelet_sizes = grabocka_params_to_shapelet_size_dict(n_ts=n_ts,\n",
    "                                                       ts_sz=ts_sz,\n",
    "                                                       n_classes=n_classes,\n",
    "                                                       l=0.1, \n",
    "                                                       r=1)"
   ]
  },
  {
   "cell_type": "code",
   "execution_count": 8,
   "id": "32ab384f",
   "metadata": {},
   "outputs": [
    {
     "name": "stderr",
     "output_type": "stream",
     "text": [
      "/Users/riccardo/opt/anaconda3/lib/python3.8/site-packages/tslearn/shapelets/shapelets.py:354: FutureWarning: The default value for 'scale' is set to False in version 0.4 to ensure backward compatibility, but is likely to change in a future version.\n",
      "  warnings.warn(\"The default value for 'scale' is set to False \"\n",
      "/Users/riccardo/opt/anaconda3/lib/python3.8/site-packages/sklearn/utils/validation.py:993: DataConversionWarning: A column-vector y was passed when a 1d array was expected. Please change the shape of y to (n_samples, ), for example using ravel().\n",
      "  y = column_or_1d(y, warn=True)\n"
     ]
    },
    {
     "data": {
      "text/plain": [
       "LearningShapelets(batch_size=16, max_iter=200, n_shapelets_per_size={12: 6},\n",
       "                  optimizer=<keras.optimizer_v2.adam.Adam object at 0x7fcd1d2d7df0>,\n",
       "                  random_state=42, weight_regularizer=0.01)"
      ]
     },
     "execution_count": 8,
     "metadata": {},
     "output_type": "execute_result"
    }
   ],
   "source": [
    "# Define the model  Learning-based Approach\n",
    "shp_clf = LearningShapelets(n_shapelets_per_size=shapelet_sizes,\n",
    "                            optimizer=tf.optimizers.Adam(.01),\n",
    "                            batch_size=16,\n",
    "                            weight_regularizer=.01,\n",
    "                            max_iter=200,\n",
    "                            random_state=42,\n",
    "                            verbose=0)\n",
    "\n",
    "shp_clf.fit(X_train, y_train)"
   ]
  },
  {
   "cell_type": "code",
   "execution_count": 9,
   "id": "1cef6efb",
   "metadata": {},
   "outputs": [
    {
     "name": "stdout",
     "output_type": "stream",
     "text": [
      "              precision    recall  f1-score   support\n",
      "\n",
      "           1       0.54      0.99      0.70       496\n",
      "           2       0.95      0.36      0.52       471\n",
      "           3       0.94      0.70      0.80       420\n",
      "           4       1.00      0.07      0.13       491\n",
      "           5       0.54      1.00      0.70       532\n",
      "           6       1.00      1.00      1.00       537\n",
      "\n",
      "    accuracy                           0.70      2947\n",
      "   macro avg       0.83      0.68      0.64      2947\n",
      "weighted avg       0.82      0.70      0.64      2947\n",
      "\n"
     ]
    }
   ],
   "source": [
    "# Make predictions and evaluate the classification result\n",
    "y_pred = shp_clf.predict(X_test)\n",
    "print(classification_report(y_test, y_pred))"
   ]
  },
  {
   "cell_type": "code",
   "execution_count": 10,
   "id": "e0ea8201",
   "metadata": {},
   "outputs": [
    {
     "data": {
      "text/html": [
       "<div>\n",
       "<style scoped>\n",
       "    .dataframe tbody tr th:only-of-type {\n",
       "        vertical-align: middle;\n",
       "    }\n",
       "\n",
       "    .dataframe tbody tr th {\n",
       "        vertical-align: top;\n",
       "    }\n",
       "\n",
       "    .dataframe thead th {\n",
       "        text-align: right;\n",
       "    }\n",
       "</style>\n",
       "<table border=\"1\" class=\"dataframe\">\n",
       "  <thead>\n",
       "    <tr style=\"text-align: right;\">\n",
       "      <th></th>\n",
       "      <th>Shapelet 1</th>\n",
       "      <th>Shapelet 2</th>\n",
       "      <th>Shapelet 3</th>\n",
       "      <th>Shapelet 4</th>\n",
       "      <th>Shapelet 5</th>\n",
       "      <th>Shapelet 6</th>\n",
       "    </tr>\n",
       "  </thead>\n",
       "  <tbody>\n",
       "    <tr>\n",
       "      <th>0</th>\n",
       "      <td>-1.584037</td>\n",
       "      <td>0.717180</td>\n",
       "      <td>5.235995</td>\n",
       "      <td>0.546223</td>\n",
       "      <td>-1.593874</td>\n",
       "      <td>0.717166</td>\n",
       "    </tr>\n",
       "    <tr>\n",
       "      <th>1</th>\n",
       "      <td>-0.249793</td>\n",
       "      <td>1.024498</td>\n",
       "      <td>6.166440</td>\n",
       "      <td>0.110917</td>\n",
       "      <td>-0.262834</td>\n",
       "      <td>1.024483</td>\n",
       "    </tr>\n",
       "    <tr>\n",
       "      <th>2</th>\n",
       "      <td>-0.077320</td>\n",
       "      <td>2.683959</td>\n",
       "      <td>5.435631</td>\n",
       "      <td>0.092009</td>\n",
       "      <td>-0.088809</td>\n",
       "      <td>2.683967</td>\n",
       "    </tr>\n",
       "    <tr>\n",
       "      <th>3</th>\n",
       "      <td>-0.476982</td>\n",
       "      <td>4.935375</td>\n",
       "      <td>3.990212</td>\n",
       "      <td>0.943042</td>\n",
       "      <td>-0.487537</td>\n",
       "      <td>4.935410</td>\n",
       "    </tr>\n",
       "    <tr>\n",
       "      <th>4</th>\n",
       "      <td>-1.091587</td>\n",
       "      <td>6.077539</td>\n",
       "      <td>2.545817</td>\n",
       "      <td>2.864810</td>\n",
       "      <td>-1.083086</td>\n",
       "      <td>6.077638</td>\n",
       "    </tr>\n",
       "  </tbody>\n",
       "</table>\n",
       "</div>"
      ],
      "text/plain": [
       "   Shapelet 1  Shapelet 2  Shapelet 3  Shapelet 4  Shapelet 5  Shapelet 6\n",
       "0   -1.584037    0.717180    5.235995    0.546223   -1.593874    0.717166\n",
       "1   -0.249793    1.024498    6.166440    0.110917   -0.262834    1.024483\n",
       "2   -0.077320    2.683959    5.435631    0.092009   -0.088809    2.683967\n",
       "3   -0.476982    4.935375    3.990212    0.943042   -0.487537    4.935410\n",
       "4   -1.091587    6.077539    2.545817    2.864810   -1.083086    6.077638"
      ]
     },
     "execution_count": 10,
     "metadata": {},
     "output_type": "execute_result"
    }
   ],
   "source": [
    "df_shapelets = pd.DataFrame(shp_clf.shapelets_as_time_series_.squeeze()).transpose()\n",
    "df_shapelets.columns = ['Shapelet 1', 'Shapelet 2', 'Shapelet 3', 'Shapelet 4', 'Shapelet 5', 'Shapelet 6', ]\n",
    "df_shapelets.head()"
   ]
  },
  {
   "cell_type": "code",
   "execution_count": 11,
   "id": "2dac80fa",
   "metadata": {},
   "outputs": [
    {
     "data": {
      "image/png": "[encoded data removed]",
      "text/plain": [
       "<Figure size 432x288 with 1 Axes>"
      ]
     },
     "metadata": {
      "needs_background": "light"
     },
     "output_type": "display_data"
    }
   ],
   "source": [
    "df_shapelets.plot()\n",
    "plt.show()"
   ]
  },
  {
   "cell_type": "code",
   "execution_count": 19,
   "id": "793eff83",
   "metadata": {
    "scrolled": false
   },
   "outputs": [
    {
     "data": {
      "image/png": "[encoded data removed]",
      "text/plain": [
       "<Figure size 432x288 with 1 Axes>"
      ]
     },
     "metadata": {
      "needs_background": "light"
     },
     "output_type": "display_data"
    }
   ],
   "source": [
    "# Plot the different discovered shapelets\n",
    "plt.figure()\n",
    "for i, sz in enumerate(shapelet_sizes.keys()):\n",
    "    plt.subplot(len(shapelet_sizes), 1, i + 1)\n",
    "    plt.title(\"%d shapelets of size %d\" % (shapelet_sizes[sz], sz))\n",
    "    for shp in shp_clf.shapelets_:\n",
    "        if ts_size(shp) == sz:\n",
    "            plt.plot(shp.ravel())\n",
    "    plt.xlim([0, max(shapelet_sizes.keys()) - 1])\n",
    "\n",
    "plt.xlabel('timestamp')\n",
    "plt.ylabel('tot_acc_x')\n",
    "plt.tight_layout()\n",
    "plt.show()\n",
    "\n",
    "# plt.savefig('Shapelet plot', dpi=150, format='png', transparent='True')"
   ]
  },
  {
   "cell_type": "code",
   "execution_count": 30,
   "id": "787cb8d1",
   "metadata": {},
   "outputs": [],
   "source": [
    "### Transform train and test set into newdataset: Represent a TS as a vector of distances with shapelets\n",
    "X_train_shp = shp_clf.transform(X_train)\n",
    "X_test_shp = shp_clf.transform(X_test)"
   ]
  },
  {
   "cell_type": "markdown",
   "id": "d9779717",
   "metadata": {},
   "source": [
    "### 5-NN"
   ]
  },
  {
   "cell_type": "code",
   "execution_count": 25,
   "id": "5cefb235",
   "metadata": {},
   "outputs": [],
   "source": [
    "from sklearn.neighbors import KNeighborsClassifier"
   ]
  },
  {
   "cell_type": "code",
   "execution_count": 26,
   "id": "adb68cc2",
   "metadata": {},
   "outputs": [
    {
     "name": "stderr",
     "output_type": "stream",
     "text": [
      "/Users/riccardo/opt/anaconda3/lib/python3.8/site-packages/sklearn/neighbors/_classification.py:198: DataConversionWarning: A column-vector y was passed when a 1d array was expected. Please change the shape of y to (n_samples,), for example using ravel().\n",
      "  return self._fit(X, y)\n"
     ]
    },
    {
     "data": {
      "text/plain": [
       "KNeighborsClassifier(weights='distance')"
      ]
     },
     "execution_count": 26,
     "metadata": {},
     "output_type": "execute_result"
    }
   ],
   "source": [
    "clf = KNeighborsClassifier(n_neighbors=5, weights='distance')\n",
    "clf.fit(X_train_shp, y_train)"
   ]
  },
  {
   "cell_type": "code",
   "execution_count": 27,
   "id": "c9479750",
   "metadata": {},
   "outputs": [
    {
     "name": "stdout",
     "output_type": "stream",
     "text": [
      "              precision    recall  f1-score   support\n",
      "\n",
      "           1       0.64      0.95      0.77       496\n",
      "           2       0.85      0.53      0.65       471\n",
      "           3       0.89      0.77      0.83       420\n",
      "           4       0.57      0.53      0.55       491\n",
      "           5       0.60      0.64      0.62       532\n",
      "           6       1.00      1.00      1.00       537\n",
      "\n",
      "    accuracy                           0.74      2947\n",
      "   macro avg       0.76      0.74      0.74      2947\n",
      "weighted avg       0.76      0.74      0.74      2947\n",
      "\n"
     ]
    }
   ],
   "source": [
    "y_pred = clf.predict(X_test_shp)\n",
    "print(classification_report(y_test, y_pred))"
   ]
  },
  {
   "cell_type": "markdown",
   "id": "3ef8bf03",
   "metadata": {},
   "source": [
    "### DecisionTree Classifier"
   ]
  },
  {
   "cell_type": "code",
   "execution_count": 28,
   "id": "b8c46c6f",
   "metadata": {},
   "outputs": [],
   "source": [
    "from sklearn.tree import DecisionTreeClassifier"
   ]
  },
  {
   "cell_type": "code",
   "execution_count": 29,
   "id": "83297c76",
   "metadata": {},
   "outputs": [
    {
     "data": {
      "text/plain": [
       "DecisionTreeClassifier(max_depth=8)"
      ]
     },
     "execution_count": 29,
     "metadata": {},
     "output_type": "execute_result"
    }
   ],
   "source": [
    "clf = DecisionTreeClassifier(max_depth=8)\n",
    "clf.fit(X_train_shp, y_train)"
   ]
  },
  {
   "cell_type": "code",
   "execution_count": 30,
   "id": "e380794b",
   "metadata": {},
   "outputs": [
    {
     "name": "stdout",
     "output_type": "stream",
     "text": [
      "              precision    recall  f1-score   support\n",
      "\n",
      "           1       0.59      0.97      0.73       496\n",
      "           2       0.90      0.40      0.56       471\n",
      "           3       0.90      0.78      0.84       420\n",
      "           4       0.78      0.43      0.55       491\n",
      "           5       0.63      0.89      0.73       532\n",
      "           6       1.00      1.00      1.00       537\n",
      "\n",
      "    accuracy                           0.75      2947\n",
      "   macro avg       0.80      0.74      0.74      2947\n",
      "weighted avg       0.80      0.75      0.74      2947\n",
      "\n"
     ]
    }
   ],
   "source": [
    "y_pred = clf.predict(X_test_shp)\n",
    "print(classification_report(y_test, y_pred))"
   ]
  },
  {
   "cell_type": "markdown",
   "id": "d4454b22",
   "metadata": {},
   "source": [
    "---"
   ]
  },
  {
   "cell_type": "markdown",
   "id": "728d7dc0",
   "metadata": {},
   "source": [
    "# Structural-based classifiers"
   ]
  },
  {
   "cell_type": "code",
   "execution_count": 31,
   "id": "4989e7ff",
   "metadata": {},
   "outputs": [],
   "source": [
    "# !pip install sktime==0.11.2 pyts"
   ]
  },
  {
   "cell_type": "code",
   "execution_count": 32,
   "id": "0f950695",
   "metadata": {},
   "outputs": [],
   "source": [
    "from sklearn.metrics import classification_report\n",
    "from sktime.datatypes._panel._convert import from_3d_numpy_to_nested"
   ]
  },
  {
   "cell_type": "markdown",
   "id": "4e9b8a09",
   "metadata": {},
   "source": [
    "### Preprocessing "
   ]
  },
  {
   "cell_type": "code",
   "execution_count": 33,
   "id": "d2f465e9",
   "metadata": {},
   "outputs": [],
   "source": [
    "from tslearn.preprocessing import TimeSeriesResampler\n",
    "from collections import Counter\n",
    "from imblearn.under_sampling import RandomUnderSampler "
   ]
  },
  {
   "cell_type": "code",
   "execution_count": 34,
   "id": "f7013e7d",
   "metadata": {},
   "outputs": [
    {
     "name": "stdout",
     "output_type": "stream",
     "text": [
      "X_train down_sampled shape (7352, 32)\n",
      "X_test down_sampled shape (2947, 32)\n"
     ]
    }
   ],
   "source": [
    "### Reducing the size of the time series\n",
    "\n",
    "X_train_down_sampled = np.squeeze(TimeSeriesResampler(sz=32).fit_transform(X_train))\n",
    "X_test_down_sampled = np.squeeze(TimeSeriesResampler(sz=32).fit_transform(X_test))\n",
    "\n",
    "print('X_train down_sampled shape', X_train_down_sampled.shape)\n",
    "print('X_test down_sampled shape', X_test_down_sampled.shape)"
   ]
  },
  {
   "cell_type": "code",
   "execution_count": 35,
   "id": "78b91af7",
   "metadata": {},
   "outputs": [
    {
     "data": {
      "image/png": "[encoded data removed]",
      "text/plain": [
       "<Figure size 720x432 with 2 Axes>"
      ]
     },
     "metadata": {
      "needs_background": "light"
     },
     "output_type": "display_data"
    }
   ],
   "source": [
    "fig, (ax1, ax2) = plt.subplots(2,1,figsize=(10,6))\n",
    "fig.subplots_adjust(hspace=0.5)\n",
    "\n",
    "#Plot the raw data ts\n",
    "ax1.plot(X_train[0])\n",
    "ax1.set_title('Raw Data')\n",
    "\n",
    "#Plot the down sampled ts\n",
    "ax2.plot(X_train_down_sampled[0], c='r')\n",
    "ax2.set_title('Down sampled Data')\n",
    "ax2.set_xlabel('timestamp')\n",
    "\n",
    "plt.show()"
   ]
  },
  {
   "cell_type": "code",
   "execution_count": 36,
   "id": "31020c25",
   "metadata": {},
   "outputs": [],
   "source": [
    "### Reducing the size of the dataset\n",
    "sampling_strategy_ = {1: 100,2: 100,3: 100,4: 100,5: 100,6: 100}\n",
    "rus = RandomUnderSampler(random_state=42, sampling_strategy= sampling_strategy_)\n",
    "X_res, y_res = rus.fit_resample(X_train_down_sampled, y_train)"
   ]
  },
  {
   "cell_type": "code",
   "execution_count": 37,
   "id": "e09bf374",
   "metadata": {},
   "outputs": [
    {
     "name": "stdout",
     "output_type": "stream",
     "text": [
      "y_res Counter({1: 100, 2: 100, 3: 100, 4: 100, 5: 100, 6: 100})\n"
     ]
    }
   ],
   "source": [
    "print('y_res %s' % Counter(y_res))"
   ]
  },
  {
   "cell_type": "markdown",
   "id": "00a20ec8",
   "metadata": {},
   "source": [
    "### 5-NN with Euclidean Distance"
   ]
  },
  {
   "cell_type": "code",
   "execution_count": 38,
   "id": "35c6a08f",
   "metadata": {},
   "outputs": [],
   "source": [
    "from pyts.classification import KNeighborsClassifier"
   ]
  },
  {
   "cell_type": "code",
   "execution_count": 39,
   "id": "c7fa744f",
   "metadata": {},
   "outputs": [
    {
     "data": {
      "text/plain": [
       "KNeighborsClassifier(n_neighbors=5, weights='distance')"
      ]
     },
     "execution_count": 39,
     "metadata": {},
     "output_type": "execute_result"
    }
   ],
   "source": [
    "clf = KNeighborsClassifier(n_neighbors=5, weights='distance')\n",
    "clf.fit(X_res, y_res)"
   ]
  },
  {
   "cell_type": "code",
   "execution_count": 40,
   "id": "982f93aa",
   "metadata": {},
   "outputs": [
    {
     "name": "stdout",
     "output_type": "stream",
     "text": [
      "              precision    recall  f1-score   support\n",
      "\n",
      "           1       0.54      0.78      0.64       496\n",
      "           2       0.63      0.51      0.56       471\n",
      "           3       0.92      0.35      0.50       420\n",
      "           4       0.47      0.42      0.44       491\n",
      "           5       0.50      0.67      0.57       532\n",
      "           6       1.00      1.00      1.00       537\n",
      "\n",
      "    accuracy                           0.63      2947\n",
      "   macro avg       0.68      0.62      0.62      2947\n",
      "weighted avg       0.67      0.63      0.63      2947\n",
      "\n",
      "CPU times: user 98.4 ms, sys: 30.1 ms, total: 129 ms\n",
      "Wall time: 98 ms\n"
     ]
    }
   ],
   "source": [
    "%%time\n",
    "y_pred = clf.predict(X_test_down_sampled)\n",
    "print(classification_report(y_test, y_pred))"
   ]
  },
  {
   "cell_type": "markdown",
   "id": "29d59148",
   "metadata": {},
   "source": [
    "### 5-NN with DTW (baseline)"
   ]
  },
  {
   "cell_type": "code",
   "execution_count": 41,
   "id": "3720943c",
   "metadata": {},
   "outputs": [],
   "source": [
    "from sktime.classification.distance_based import KNeighborsTimeSeriesClassifier"
   ]
  },
  {
   "cell_type": "code",
   "execution_count": 42,
   "id": "241d4bcb",
   "metadata": {},
   "outputs": [
    {
     "data": {
      "text/plain": [
       "KNeighborsTimeSeriesClassifier(n_neighbors=5, weights='distance')"
      ]
     },
     "execution_count": 42,
     "metadata": {},
     "output_type": "execute_result"
    }
   ],
   "source": [
    "clf = KNeighborsTimeSeriesClassifier(n_neighbors=5, weights='distance') # default distance = 'dtw'\n",
    "clf.fit(X_res, y_res)"
   ]
  },
  {
   "cell_type": "code",
   "execution_count": 43,
   "id": "9a0e4dfd",
   "metadata": {},
   "outputs": [
    {
     "name": "stdout",
     "output_type": "stream",
     "text": [
      "              precision    recall  f1-score   support\n",
      "\n",
      "           1       0.67      0.95      0.79       496\n",
      "           2       0.69      0.62      0.66       471\n",
      "           3       0.93      0.58      0.71       420\n",
      "           4       0.57      0.48      0.52       491\n",
      "           5       0.58      0.66      0.62       532\n",
      "           6       1.00      1.00      1.00       537\n",
      "\n",
      "    accuracy                           0.72      2947\n",
      "   macro avg       0.74      0.72      0.72      2947\n",
      "weighted avg       0.74      0.72      0.72      2947\n",
      "\n",
      "CPU times: user 16.6 s, sys: 115 ms, total: 16.7 s\n",
      "Wall time: 16.8 s\n"
     ]
    }
   ],
   "source": [
    "%%time\n",
    "y_pred = clf.predict(X_test_down_sampled)\n",
    "print(classification_report(y_test, y_pred))"
   ]
  },
  {
   "cell_type": "markdown",
   "id": "18ee256e",
   "metadata": {},
   "source": [
    "### ROCKET"
   ]
  },
  {
   "cell_type": "code",
   "execution_count": 13,
   "id": "00ecd47e",
   "metadata": {},
   "outputs": [],
   "source": [
    "from pyts.transformation import ROCKET\n",
    "from sklearn.linear_model import RidgeClassifierCV"
   ]
  },
  {
   "cell_type": "code",
   "execution_count": 14,
   "id": "d3790480",
   "metadata": {},
   "outputs": [
    {
     "name": "stdout",
     "output_type": "stream",
     "text": [
      "CPU times: user 13.5 s, sys: 526 ms, total: 14.1 s\n",
      "Wall time: 13.7 s\n"
     ]
    }
   ],
   "source": [
    "%%time\n",
    "rocket = ROCKET(random_state=42)\n",
    "rocket.fit(X_res)\n",
    "X_train_transform = rocket.transform(X_res)\n",
    "clf = RidgeClassifierCV().fit(X_train_transform, y_res)"
   ]
  },
  {
   "cell_type": "code",
   "execution_count": 15,
   "id": "3112b6b8",
   "metadata": {},
   "outputs": [
    {
     "name": "stdout",
     "output_type": "stream",
     "text": [
      "              precision    recall  f1-score   support\n",
      "\n",
      "           1       0.86      0.94      0.90       496\n",
      "           2       0.86      0.82      0.84       471\n",
      "           3       0.92      0.85      0.88       420\n",
      "           4       0.62      0.38      0.48       491\n",
      "           5       0.58      0.79      0.67       532\n",
      "           6       1.00      1.00      1.00       537\n",
      "\n",
      "    accuracy                           0.80      2947\n",
      "   macro avg       0.81      0.80      0.79      2947\n",
      "weighted avg       0.80      0.80      0.79      2947\n",
      "\n"
     ]
    }
   ],
   "source": [
    "X_test_transform = rocket.transform(X_test_down_sampled)\n",
    "y_pred = clf.predict(X_test_transform)\n",
    "print(classification_report(y_test, y_pred))"
   ]
  },
  {
   "cell_type": "markdown",
   "id": "b2543509",
   "metadata": {},
   "source": [
    "### Canonical Interval Forest (CIF)"
   ]
  },
  {
   "cell_type": "code",
   "execution_count": 16,
   "id": "f1867339",
   "metadata": {},
   "outputs": [],
   "source": [
    "from sktime.classification.interval_based import CanonicalIntervalForest"
   ]
  },
  {
   "cell_type": "code",
   "execution_count": 17,
   "id": "ecd4254d",
   "metadata": {},
   "outputs": [
    {
     "name": "stdout",
     "output_type": "stream",
     "text": [
      "CPU times: user 1min 53s, sys: 13.4 s, total: 2min 7s\n",
      "Wall time: 2min 16s\n"
     ]
    },
    {
     "data": {
      "text/plain": [
       "CanonicalIntervalForest(n_estimators=30)"
      ]
     },
     "execution_count": 17,
     "metadata": {},
     "output_type": "execute_result"
    }
   ],
   "source": [
    "%%time\n",
    "clf = CanonicalIntervalForest(n_estimators=30)\n",
    "clf.fit(X_res, y_res)"
   ]
  },
  {
   "cell_type": "code",
   "execution_count": 18,
   "id": "05d8889a",
   "metadata": {},
   "outputs": [
    {
     "name": "stdout",
     "output_type": "stream",
     "text": [
      "              precision    recall  f1-score   support\n",
      "\n",
      "           1       0.74      0.94      0.83       496\n",
      "           2       0.81      0.74      0.77       471\n",
      "           3       0.90      0.71      0.79       420\n",
      "           4       0.57      0.45      0.51       491\n",
      "           5       0.58      0.69      0.63       532\n",
      "           6       1.00      1.00      1.00       537\n",
      "\n",
      "    accuracy                           0.76      2947\n",
      "   macro avg       0.77      0.75      0.75      2947\n",
      "weighted avg       0.76      0.76      0.76      2947\n",
      "\n"
     ]
    }
   ],
   "source": [
    "y_pred = clf.predict(X_test_down_sampled)\n",
    "print(classification_report(y_test, y_pred))"
   ]
  },
  {
   "cell_type": "code",
   "execution_count": null,
   "id": "a3ca1b42",
   "metadata": {},
   "outputs": [],
   "source": []
  }
 ],
 "metadata": {
  "kernelspec": {
   "display_name": "Python 3 (ipykernel)",
   "language": "python",
   "name": "python3"
  },
  "language_info": {
   "codemirror_mode": {
    "name": "ipython",
    "version": 3
   },
   "file_extension": ".py",
   "mimetype": "text/x-python",
   "name": "python",
   "nbconvert_exporter": "python",
   "pygments_lexer": "ipython3",
   "version": "3.9.12"
  }
 },
 "nbformat": 4,
 "nbformat_minor": 5
}
