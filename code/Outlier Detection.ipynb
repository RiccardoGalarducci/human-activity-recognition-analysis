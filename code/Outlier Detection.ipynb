{
 "cells": [
  {
   "cell_type": "markdown",
   "id": "87347792",
   "metadata": {},
   "source": [
    "# OUTLIER DETECTION"
   ]
  },
  {
   "cell_type": "markdown",
   "id": "f81b54c5",
   "metadata": {},
   "source": [
    "__Identify the top 1% outliers__: adopt at least three different methods from different families (e.g., density-based, angle-based… ) and compare the results. \n",
    "\n",
    "Deal with the outliers by __removing them__ from the dataset or by treating the anomalous variables as missing values and employing __replacement techniques__. In this second case, you should check that the outliers are not outliers anymore. Justify your choices in every step."
   ]
  },
  {
   "cell_type": "markdown",
   "id": "04ba6f4e",
   "metadata": {},
   "source": [
    "In this notebook will be tested three different types of Outlier detection method:\n",
    "\n",
    "**1) ABOD** that is a **high dimensional approach**\n",
    "\n",
    "**2) Standard and Extended Isolation forest** that are **model based approaches**\n",
    "\n",
    "**3) LOF** that is a **density based approach**"
   ]
  },
  {
   "cell_type": "code",
   "execution_count": 242,
   "id": "0b3760b6",
   "metadata": {},
   "outputs": [],
   "source": [
    "import numpy as np\n",
    "import pandas as pd\n",
    "import matplotlib as mlt\n",
    "import matplotlib.pyplot as plt\n",
    "import seaborn as sns\n",
    "sns.set_style(style=\"whitegrid\")\n",
    "sns.set_color_codes()\n",
    "\n",
    "from collections import defaultdict"
   ]
  },
  {
   "cell_type": "code",
   "execution_count": 243,
   "id": "4089548e",
   "metadata": {},
   "outputs": [],
   "source": [
    "df_train = pd.read_csv('csv/train.csv')\n",
    "df_test = pd.read_csv('csv/test.csv')"
   ]
  },
  {
   "cell_type": "code",
   "execution_count": 244,
   "id": "c05be446",
   "metadata": {},
   "outputs": [],
   "source": [
    "# Define the Target attribute \"Class\" - Walk upstairs\n",
    "\n",
    "df_train['Class'] = 0\n",
    "df_test['Class'] = 0\n",
    "\n",
    "df_train.loc[(df_train['Activity']==2), 'Class'] = 1\n",
    "df_test.loc[(df_test['Activity']==2), 'Class'] = 1"
   ]
  },
  {
   "cell_type": "code",
   "execution_count": 245,
   "id": "4415cea1",
   "metadata": {},
   "outputs": [],
   "source": [
    "to_drop = ['ActivityName','Class','subject']    \n",
    "X_train = df_train.drop(to_drop, axis=1, inplace=False)\n",
    "X_test = df_test.drop(to_drop, axis=1, inplace=False)"
   ]
  },
  {
   "cell_type": "code",
   "execution_count": 246,
   "id": "9173031e",
   "metadata": {},
   "outputs": [],
   "source": [
    "# Division between activities of motion (1,2,3) and static activities (4,5,6)\n",
    "\n",
    "X_train_motion = X_train[X_train[\"Activity\"]<=3]\n",
    "X_train_static = X_train[X_train[\"Activity\"]>3]\n",
    "\n",
    "X_test_motion = X_test[X_test[\"Activity\"]<=3]\n",
    "X_test_static = X_test[X_test[\"Activity\"]>3]"
   ]
  },
  {
   "cell_type": "code",
   "execution_count": 247,
   "id": "c8c8e69d",
   "metadata": {},
   "outputs": [
    {
     "name": "stdout",
     "output_type": "stream",
     "text": [
      "[1 3 2]\n"
     ]
    }
   ],
   "source": [
    "print(pd.unique(X_train_motion['Activity']))"
   ]
  },
  {
   "cell_type": "code",
   "execution_count": 248,
   "id": "f629aecb",
   "metadata": {},
   "outputs": [
    {
     "name": "stdout",
     "output_type": "stream",
     "text": [
      "[1 3 2]\n"
     ]
    }
   ],
   "source": [
    "print(pd.unique(X_test_motion['Activity']))"
   ]
  },
  {
   "cell_type": "code",
   "execution_count": 249,
   "id": "16ec29be",
   "metadata": {},
   "outputs": [
    {
     "name": "stdout",
     "output_type": "stream",
     "text": [
      "[5 4 6]\n"
     ]
    }
   ],
   "source": [
    "print(pd.unique(X_train_static['Activity']))"
   ]
  },
  {
   "cell_type": "code",
   "execution_count": 250,
   "id": "dd3981ed",
   "metadata": {},
   "outputs": [
    {
     "name": "stdout",
     "output_type": "stream",
     "text": [
      "[5 4 6]\n"
     ]
    }
   ],
   "source": [
    "print(pd.unique(X_test_static['Activity']))"
   ]
  },
  {
   "cell_type": "markdown",
   "id": "c6153d59",
   "metadata": {},
   "source": [
    "## 1. HIGH DIMENSIONAL APPROACHES"
   ]
  },
  {
   "cell_type": "markdown",
   "id": "7e1fa1f8",
   "metadata": {},
   "source": [
    "### 1.1 ABOD  Angle-Based Outlier Degree  PYOD"
   ]
  },
  {
   "cell_type": "markdown",
   "id": "34a71473",
   "metadata": {},
   "source": [
    "### Motion activities"
   ]
  },
  {
   "cell_type": "code",
   "execution_count": 314,
   "id": "8bbd6a89",
   "metadata": {},
   "outputs": [],
   "source": [
    "from pyod.models.abod import ABOD"
   ]
  },
  {
   "cell_type": "markdown",
   "id": "5ed77731",
   "metadata": {},
   "source": [
    "https://pyod.readthedocs.io/en/latest/pyod.models.html?highlight=abod#pyod.models.abod.ABOD"
   ]
  },
  {
   "cell_type": "code",
   "execution_count": 332,
   "id": "0c2822c0",
   "metadata": {},
   "outputs": [],
   "source": [
    "Abod = ABOD(contamination=0.005)"
   ]
  },
  {
   "cell_type": "code",
   "execution_count": 333,
   "id": "10a3b3a5",
   "metadata": {},
   "outputs": [
    {
     "data": {
      "text/plain": [
       "ABOD(contamination=0.005, method='fast', n_neighbors=5)"
      ]
     },
     "execution_count": 333,
     "metadata": {},
     "output_type": "execute_result"
    }
   ],
   "source": [
    "Abod.fit(X_train_motion)\n",
    "\n",
    "# contamination of the data set, i.e. the proportion of outliers in the data set. \n",
    "# Used when fitting to define the threshold on the decision function."
   ]
  },
  {
   "cell_type": "code",
   "execution_count": 334,
   "id": "728d68dd",
   "metadata": {},
   "outputs": [
    {
     "data": {
      "text/plain": [
       "array([-5.98092657e-05, -7.55986760e-05, -2.58994726e-05, ...,\n",
       "       -1.75294243e-04, -1.03815217e-04, -5.41070915e-05])"
      ]
     },
     "execution_count": 334,
     "metadata": {},
     "output_type": "execute_result"
    }
   ],
   "source": [
    "Abod.decision_scores_\n",
    "# The higher, the more abnormal. Outliers tend to have higher scores. \n",
    "# This value is available once the detector is fitted."
   ]
  },
  {
   "cell_type": "code",
   "execution_count": 335,
   "id": "9c0d9387",
   "metadata": {},
   "outputs": [
    {
     "data": {
      "text/plain": [
       "-5.6174410861146476e-06"
      ]
     },
     "execution_count": 335,
     "metadata": {},
     "output_type": "execute_result"
    }
   ],
   "source": [
    "Abod.threshold_\n",
    "# The threshold is based on contamination. \n",
    "# It is the n_samples * contamination most abnormal samples in decision_scores_. \n",
    "# The threshold is calculated for generating binary outlier labels.\n",
    "# top n outliers = 7352 * 0.1 = 735.2"
   ]
  },
  {
   "cell_type": "code",
   "execution_count": 336,
   "id": "ad508bd5",
   "metadata": {},
   "outputs": [
    {
     "data": {
      "text/plain": [
       "(array([0, 1]), array([1347,   40]))"
      ]
     },
     "execution_count": 336,
     "metadata": {},
     "output_type": "execute_result"
    }
   ],
   "source": [
    "# OUTLIER PREDICTION SUL TEST SET \n",
    "\n",
    "ABOD_predict = Abod.predict(X_test_motion)\n",
    "np.unique(ABOD_predict, return_counts=True)\n",
    "# 0 stands for inliers and 1 for outliers."
   ]
  },
  {
   "cell_type": "code",
   "execution_count": 337,
   "id": "6514cb99",
   "metadata": {},
   "outputs": [
    {
     "data": {
      "text/plain": [
       "(array([0, 1]), array([3268,   17]))"
      ]
     },
     "execution_count": 337,
     "metadata": {},
     "output_type": "execute_result"
    }
   ],
   "source": [
    "# OUTLIER LABELS TRAINING SET\n",
    "np.unique(Abod.labels_, return_counts=True)"
   ]
  },
  {
   "cell_type": "code",
   "execution_count": 338,
   "id": "b00aa5c1",
   "metadata": {},
   "outputs": [
    {
     "data": {
      "image/png": "[encoded data removed]",
      "text/plain": [
       "<Figure size 360x360 with 1 Axes>"
      ]
     },
     "metadata": {},
     "output_type": "display_data"
    }
   ],
   "source": [
    "ABOD_outliers = Abod.decision_scores_[np.where(ABOD_predict==1)]\n",
    "ABOD_inliers = Abod.decision_scores_[np.where(ABOD_predict==0)]\n",
    "\n",
    "sns.displot(Abod.decision_scores_, kind=\"hist\" , kde = True)\n",
    "plt.axvline(np.min(Abod.decision_scores_[np.where(Abod.labels_==1)]), c='g')\n",
    "plt.axvline(np.max(Abod.decision_scores_[np.where(Abod.labels_==1)]), c='k')\n",
    "plt.xlabel(\"decision scores\")\n",
    "#plt.title(\"ABOD decision score\")\n",
    "plt.show()"
   ]
  },
  {
   "cell_type": "code",
   "execution_count": 339,
   "id": "d5640399",
   "metadata": {},
   "outputs": [
    {
     "data": {
      "text/plain": [
       "(array([ 625,  628,  637,  847,  915, 1161, 1224, 1777, 1797, 1812, 1816,\n",
       "        1818, 1820, 1821, 2144, 2184, 2244]),)"
      ]
     },
     "execution_count": 339,
     "metadata": {},
     "output_type": "execute_result"
    }
   ],
   "source": [
    "abod_outliers_train_motion = np.where(Abod.labels_==1)\n",
    "abod_outliers_train_motion"
   ]
  },
  {
   "cell_type": "markdown",
   "id": "82c1c769",
   "metadata": {},
   "source": [
    "### Static activities"
   ]
  },
  {
   "cell_type": "code",
   "execution_count": 340,
   "id": "b7a9d12a",
   "metadata": {},
   "outputs": [],
   "source": [
    "Abod = ABOD(contamination=0.005)"
   ]
  },
  {
   "cell_type": "code",
   "execution_count": 341,
   "id": "8da3b59b",
   "metadata": {},
   "outputs": [
    {
     "data": {
      "text/plain": [
       "ABOD(contamination=0.005, method='fast', n_neighbors=5)"
      ]
     },
     "execution_count": 341,
     "metadata": {},
     "output_type": "execute_result"
    }
   ],
   "source": [
    "Abod.fit(X_train_static)"
   ]
  },
  {
   "cell_type": "code",
   "execution_count": 342,
   "id": "4fb6970c",
   "metadata": {},
   "outputs": [
    {
     "data": {
      "text/plain": [
       "(array([0, 1]), array([4046,   21]))"
      ]
     },
     "execution_count": 342,
     "metadata": {},
     "output_type": "execute_result"
    }
   ],
   "source": [
    "# OUTLIER LABELS TRAINING SET\n",
    "np.unique(Abod.labels_, return_counts=True)"
   ]
  },
  {
   "cell_type": "code",
   "execution_count": 343,
   "id": "ce1f8f27",
   "metadata": {},
   "outputs": [
    {
     "data": {
      "text/plain": [
       "(array([0, 1]), array([1528,   32]))"
      ]
     },
     "execution_count": 343,
     "metadata": {},
     "output_type": "execute_result"
    }
   ],
   "source": [
    "# OUTLIER PREDICTION SUL TEST SET \n",
    "\n",
    "ABOD_predict = Abod.predict(X_test_static)\n",
    "np.unique(ABOD_predict, return_counts=True)"
   ]
  },
  {
   "cell_type": "code",
   "execution_count": 344,
   "id": "2ac11619",
   "metadata": {},
   "outputs": [
    {
     "data": {
      "image/png": "[encoded data removed]",
      "text/plain": [
       "<Figure size 360x360 with 1 Axes>"
      ]
     },
     "metadata": {},
     "output_type": "display_data"
    }
   ],
   "source": [
    "ABOD_outliers = Abod.decision_scores_[np.where(ABOD_predict==1)]\n",
    "ABOD_inliers = Abod.decision_scores_[np.where(ABOD_predict==0)]\n",
    "\n",
    "sns.displot(Abod.decision_scores_, kind=\"hist\" , kde = True)\n",
    "plt.axvline(np.min(Abod.decision_scores_[np.where(Abod.labels_==1)]), c='g')\n",
    "plt.axvline(np.max(Abod.decision_scores_[np.where(Abod.labels_==1)]), c='k')\n",
    "plt.xlabel(\"decision scores\")\n",
    "# plt.title(\"ABOD decision score\")\n",
    "plt.show()"
   ]
  },
  {
   "cell_type": "code",
   "execution_count": 345,
   "id": "a8ffdc43",
   "metadata": {},
   "outputs": [
    {
     "data": {
      "text/plain": [
       "(array([  67,   71,  140,  279,  292,  309,  432,  617,  924,  937,  953,\n",
       "        1014, 1260, 1525, 1602, 1735, 1853, 2025, 2243, 2858, 2862]),)"
      ]
     },
     "execution_count": 345,
     "metadata": {},
     "output_type": "execute_result"
    }
   ],
   "source": [
    "abod_outliers_train_static = np.where(Abod.labels_==1)\n",
    "abod_outliers_train_static"
   ]
  },
  {
   "cell_type": "code",
   "execution_count": 346,
   "id": "fa57fdb5",
   "metadata": {},
   "outputs": [
    {
     "data": {
      "text/plain": [
       "array([1164])"
      ]
     },
     "execution_count": 346,
     "metadata": {},
     "output_type": "execute_result"
    }
   ],
   "source": [
    "np.intersect1d(abod_outliers_test_static, abod_outliers_test_motion)"
   ]
  },
  {
   "cell_type": "markdown",
   "id": "80bc68f8",
   "metadata": {},
   "source": [
    "## 2. MODEL-BASED APPROACHES"
   ]
  },
  {
   "cell_type": "markdown",
   "id": "46b66f31",
   "metadata": {},
   "source": [
    "Codici seguenti ripresi da:\n",
    "https://towardsdatascience.com/how-to-detect-outliers-with-python-pyod-aa7147359e4b"
   ]
  },
  {
   "cell_type": "markdown",
   "id": "2e6a6e04",
   "metadata": {},
   "source": [
    "### 2.1 Standard Isolation Forest  (sklearn)"
   ]
  },
  {
   "cell_type": "markdown",
   "id": "0628a2ed",
   "metadata": {},
   "source": [
    "### Motion activities"
   ]
  },
  {
   "cell_type": "code",
   "execution_count": 347,
   "id": "6d9d9eae",
   "metadata": {},
   "outputs": [],
   "source": [
    "from sklearn.ensemble import IsolationForest"
   ]
  },
  {
   "cell_type": "code",
   "execution_count": 348,
   "id": "e565dcd0",
   "metadata": {},
   "outputs": [],
   "source": [
    "if_sk = IsolationForest(n_estimators = 100, \n",
    "                        max_samples = 256,\n",
    "                        contamination = 0.005,  \n",
    "                        random_state = np.random.RandomState(42))"
   ]
  },
  {
   "cell_type": "code",
   "execution_count": 349,
   "id": "f0d534da",
   "metadata": {},
   "outputs": [
    {
     "name": "stderr",
     "output_type": "stream",
     "text": [
      "/Users/riccardo/opt/anaconda3/lib/python3.8/site-packages/sklearn/base.py:450: UserWarning: X does not have valid feature names, but IsolationForest was fitted with feature names\n",
      "  warnings.warn(\n"
     ]
    }
   ],
   "source": [
    "outliers_motion_train = if_sk.fit_predict(X_train_motion)\n",
    "outliers_motion_test = if_sk.predict(X_test_motion)"
   ]
  },
  {
   "cell_type": "code",
   "execution_count": 350,
   "id": "a3641c03",
   "metadata": {},
   "outputs": [
    {
     "data": {
      "text/plain": [
       "(array([-1,  1]), array([  17, 3268]))"
      ]
     },
     "execution_count": 350,
     "metadata": {},
     "output_type": "execute_result"
    }
   ],
   "source": [
    "# 1 for inliers, -1 for outliers.\n",
    "np.unique(outliers_motion_train, return_counts=True)"
   ]
  },
  {
   "cell_type": "code",
   "execution_count": 351,
   "id": "b78172a3",
   "metadata": {},
   "outputs": [],
   "source": [
    "# Negative scores represent outliers, positive scores represent inliers.\n",
    "X_train_score_motion = if_sk.decision_function(X_train_motion)\n",
    "X_test_score_motion = if_sk.decision_function(X_test_motion)"
   ]
  },
  {
   "cell_type": "code",
   "execution_count": 352,
   "id": "0ead9a51",
   "metadata": {},
   "outputs": [
    {
     "data": {
      "image/png": "[encoded data removed]",
      "text/plain": [
       "<Figure size 360x360 with 1 Axes>"
      ]
     },
     "metadata": {},
     "output_type": "display_data"
    }
   ],
   "source": [
    "sns.displot(X_train_score_motion, kind=\"hist\" , kde = True)\n",
    "plt.axvline(np.min(X_train_score_motion[np.where(outliers_motion_train==-1)]), c='g')\n",
    "plt.axvline(np.max(X_train_score_motion[np.where(outliers_motion_train==-1)]), c='r')\n",
    "# plt.title('Standard Isolation Forest (sklearn)', fontsize=15)\n",
    "plt.show()"
   ]
  },
  {
   "cell_type": "code",
   "execution_count": 353,
   "id": "119abae3",
   "metadata": {},
   "outputs": [
    {
     "data": {
      "text/plain": [
       "(array([ 628, 1229, 1236, 1810, 1811, 1812, 1814, 1816, 1817, 1818, 1819,\n",
       "        1820, 1821, 1836, 1837, 1839, 1840]),)"
      ]
     },
     "execution_count": 353,
     "metadata": {},
     "output_type": "execute_result"
    }
   ],
   "source": [
    "iso_outliers_train_motion = np.where(outliers_motion_train==-1)\n",
    "iso_outliers_train_motion"
   ]
  },
  {
   "cell_type": "code",
   "execution_count": 354,
   "id": "14db8211",
   "metadata": {},
   "outputs": [
    {
     "data": {
      "text/plain": [
       "array([ 628, 1812, 1816, 1818, 1820, 1821])"
      ]
     },
     "execution_count": 354,
     "metadata": {},
     "output_type": "execute_result"
    }
   ],
   "source": [
    "np.intersect1d(abod_outliers_train_motion, iso_outliers_train_motion)"
   ]
  },
  {
   "cell_type": "markdown",
   "id": "c45f4ec3",
   "metadata": {},
   "source": [
    "### Static activities"
   ]
  },
  {
   "cell_type": "code",
   "execution_count": 355,
   "id": "65294f96",
   "metadata": {},
   "outputs": [],
   "source": [
    "if_sk = IsolationForest(n_estimators = 100, \n",
    "                        max_samples = 256,\n",
    "                        contamination = 0.005,  \n",
    "                        random_state = np.random.RandomState(42))"
   ]
  },
  {
   "cell_type": "code",
   "execution_count": 356,
   "id": "17947e04",
   "metadata": {},
   "outputs": [
    {
     "name": "stderr",
     "output_type": "stream",
     "text": [
      "/Users/riccardo/opt/anaconda3/lib/python3.8/site-packages/sklearn/base.py:450: UserWarning: X does not have valid feature names, but IsolationForest was fitted with feature names\n",
      "  warnings.warn(\n"
     ]
    }
   ],
   "source": [
    "outliers_static_train = if_sk.fit_predict(X_train_static)\n",
    "outliers_static_test = if_sk.predict(X_test_static)"
   ]
  },
  {
   "cell_type": "code",
   "execution_count": 357,
   "id": "ec2bf89d",
   "metadata": {},
   "outputs": [
    {
     "data": {
      "text/plain": [
       "(array([-1,  1]), array([  21, 4046]))"
      ]
     },
     "execution_count": 357,
     "metadata": {},
     "output_type": "execute_result"
    }
   ],
   "source": [
    "# 1 for inliers, -1 for outliers.\n",
    "np.unique(outliers_static_train, return_counts=True)"
   ]
  },
  {
   "cell_type": "code",
   "execution_count": 358,
   "id": "b37d3922",
   "metadata": {},
   "outputs": [],
   "source": [
    "# Negative scores represent outliers, positive scores represent inliers.\n",
    "X_train_score_static = if_sk.decision_function(X_train_static)\n",
    "X_test_score_static = if_sk.decision_function(X_test_static)"
   ]
  },
  {
   "cell_type": "code",
   "execution_count": 359,
   "id": "c9b711fc",
   "metadata": {},
   "outputs": [
    {
     "data": {
      "image/png": "[encoded data removed]",
      "text/plain": [
       "<Figure size 360x360 with 1 Axes>"
      ]
     },
     "metadata": {},
     "output_type": "display_data"
    }
   ],
   "source": [
    "sns.displot(X_train_score_static, kind=\"hist\" , kde = True)\n",
    "plt.axvline(np.min(X_train_score_static[np.where(outliers_static_train==-1)]), c='g')\n",
    "plt.axvline(np.max(X_train_score_static[np.where(outliers_static_train==-1)]), c='r')\n",
    "# plt.title('Standard Isolation Forest (sklearn)', fontsize=15)\n",
    "plt.show()"
   ]
  },
  {
   "cell_type": "code",
   "execution_count": 280,
   "id": "8db8c010",
   "metadata": {},
   "outputs": [
    {
     "data": {
      "text/plain": [
       "(array([  66,   67,   70,   71,  139,  140,  150,  279,  404,  549,  617,\n",
       "         618,  700,  937, 1249, 1260, 2118, 2254, 2544, 2564, 3663]),)"
      ]
     },
     "execution_count": 280,
     "metadata": {},
     "output_type": "execute_result"
    }
   ],
   "source": [
    "iso_outliers_train_static = np.where(outliers_static_train==-1)\n",
    "iso_outliers_train_static"
   ]
  },
  {
   "cell_type": "code",
   "execution_count": 281,
   "id": "a423e4c5",
   "metadata": {},
   "outputs": [
    {
     "data": {
      "text/plain": [
       "array([  67,   71,  140,  279,  617,  937, 1260])"
      ]
     },
     "execution_count": 281,
     "metadata": {},
     "output_type": "execute_result"
    }
   ],
   "source": [
    "np.intersect1d(abod_outliers_train_static, iso_outliers_train_static)"
   ]
  },
  {
   "cell_type": "markdown",
   "id": "5429cb7f",
   "metadata": {},
   "source": [
    "### 2.2 Standard Isolation Forest & Extended Isolation Forest   (eif)\n",
    "\n",
    "1) https://github.com/sahandha/eif/blob/master/Notebooks/EIF.ipynb\n",
    "\n",
    "2) https://towardsdatascience.com/outlier-detection-with-extended-isolation-forest-1e248a3fe97b"
   ]
  },
  {
   "cell_type": "markdown",
   "id": "136bfd5d",
   "metadata": {},
   "source": [
    "### Motion activities"
   ]
  },
  {
   "cell_type": "code",
   "execution_count": 282,
   "id": "5618aacf",
   "metadata": {},
   "outputs": [],
   "source": [
    "import eif as iso"
   ]
  },
  {
   "cell_type": "markdown",
   "id": "b5a27890",
   "metadata": {},
   "source": [
    "We train two sets of forests, F0 and F1. \n",
    "\n",
    "- __F0__ is the __Standard Isolation Forest__, which corresponds to extension level 0 in the context of EIF. \n",
    "\n",
    "- __F1__ is the __Extended Isolation Forest__ with extension 1"
   ]
  },
  {
   "cell_type": "code",
   "execution_count": 283,
   "id": "58d444c7",
   "metadata": {},
   "outputs": [],
   "source": [
    "F0  = iso.iForest(X_train_motion.values,ntrees=500, sample_size=256, ExtensionLevel=0) # standard eif\n",
    "F1  = iso.iForest(X_train_motion.values,ntrees=500, sample_size=256, ExtensionLevel=1)  # extended eif"
   ]
  },
  {
   "cell_type": "markdown",
   "id": "c12f86d4",
   "metadata": {},
   "source": [
    "compute_paths returns that anomaly score. It computes the depth each points reaches in each trained tree, and converts the ensemble aggregate to an anomaly score."
   ]
  },
  {
   "cell_type": "code",
   "execution_count": 284,
   "id": "a88879f1",
   "metadata": {},
   "outputs": [],
   "source": [
    "# Score the training data itself to see the distribution of the anomaly scores each point receives. \n",
    "S0 = F0.compute_paths(X_in=X_train_motion.values)\n",
    "S1 = F1.compute_paths(X_in=X_train_motion.values)"
   ]
  },
  {
   "cell_type": "code",
   "execution_count": 285,
   "id": "5f574287",
   "metadata": {},
   "outputs": [
    {
     "data": {
      "image/png": "[encoded data removed]",
      "text/plain": [
       "<Figure size 432x288 with 2 Axes>"
      ]
     },
     "metadata": {},
     "output_type": "display_data"
    }
   ],
   "source": [
    "fig , axes = plt.subplots(1 , 2)\n",
    "\n",
    "sns.histplot(S0,ax=axes[0] ,  kde = True )\n",
    "axes[0].set_title(\"Standard\")\n",
    "\n",
    "sns.histplot(S1,ax=axes[1] ,  kde = True )\n",
    "axes[1].set_title('Extended')\n",
    "\n",
    "plt.show()"
   ]
  },
  {
   "cell_type": "markdown",
   "id": "42cad319",
   "metadata": {},
   "source": [
    "The distribution of anomaly scores are shown. By definition, anomalies are those that occur less frequently. So it makes sense that the number of points with higher anomaly scores reduces as the score increases."
   ]
  },
  {
   "cell_type": "code",
   "execution_count": 286,
   "id": "9d697cff",
   "metadata": {},
   "outputs": [],
   "source": [
    "ss0=np.sort(S0)\n",
    "ss1=np.sort(S1)\n",
    "\n",
    "outliers_ss0 = ss0[-736:] #top 736 outliers standard isolation forest\n",
    "outliers_ss1 = ss1[-736:] #top 736 outliers extended isolation forest"
   ]
  },
  {
   "cell_type": "markdown",
   "id": "c75a881a",
   "metadata": {},
   "source": [
    "### Static activities"
   ]
  },
  {
   "cell_type": "code",
   "execution_count": 287,
   "id": "cbd4ec7f",
   "metadata": {},
   "outputs": [],
   "source": [
    "F0  = iso.iForest(X_train_static.values,ntrees=500, sample_size=256, ExtensionLevel=0) # standard eif\n",
    "F1  = iso.iForest(X_train_static.values,ntrees=500, sample_size=256, ExtensionLevel=1)  # extended eif"
   ]
  },
  {
   "cell_type": "code",
   "execution_count": 288,
   "id": "1a3ccce3",
   "metadata": {},
   "outputs": [],
   "source": [
    "# Score the training data itself to see the distribution of the anomaly scores each point receives. \n",
    "S0 = F0.compute_paths(X_in=X_train_static.values)\n",
    "S1 = F1.compute_paths(X_in=X_train_static.values)"
   ]
  },
  {
   "cell_type": "code",
   "execution_count": 289,
   "id": "5b45a8c3",
   "metadata": {},
   "outputs": [
    {
     "data": {
      "image/png": "[encoded data removed]",
      "text/plain": [
       "<Figure size 432x288 with 2 Axes>"
      ]
     },
     "metadata": {},
     "output_type": "display_data"
    }
   ],
   "source": [
    "fig , axes = plt.subplots(1 , 2)\n",
    "\n",
    "sns.histplot(S0,ax=axes[0] ,  kde = True )\n",
    "axes[0].set_title(\"Standard\")\n",
    "\n",
    "sns.histplot(S1,ax=axes[1] ,  kde = True )\n",
    "axes[1].set_title('Extended')\n",
    "\n",
    "plt.show()"
   ]
  },
  {
   "cell_type": "markdown",
   "id": "70a53936",
   "metadata": {},
   "source": [
    "## 3. DENSITY-BASED APPROACH"
   ]
  },
  {
   "cell_type": "markdown",
   "id": "c6351c37",
   "metadata": {},
   "source": [
    "### 3.1 Local Outlier Factor LOF"
   ]
  },
  {
   "cell_type": "code",
   "execution_count": 290,
   "id": "11520a48",
   "metadata": {},
   "outputs": [],
   "source": [
    "from sklearn.neighbors import LocalOutlierFactor"
   ]
  },
  {
   "cell_type": "markdown",
   "id": "505b60ad",
   "metadata": {},
   "source": [
    "### Motion activities"
   ]
  },
  {
   "cell_type": "code",
   "execution_count": 360,
   "id": "4e93282e",
   "metadata": {},
   "outputs": [],
   "source": [
    "clf = LocalOutlierFactor(contamination = 0.005)\n",
    "outliers_LOF = clf.fit_predict(X_train_motion)"
   ]
  },
  {
   "cell_type": "code",
   "execution_count": 361,
   "id": "2bf71a68",
   "metadata": {},
   "outputs": [
    {
     "data": {
      "text/plain": [
       "(array([-1,  1]), array([  17, 3268]))"
      ]
     },
     "execution_count": 361,
     "metadata": {},
     "output_type": "execute_result"
    }
   ],
   "source": [
    "np.unique(outliers_LOF, return_counts=True)\n",
    "# -1 stand for outliers, 1 stand for inliers"
   ]
  },
  {
   "cell_type": "code",
   "execution_count": 362,
   "id": "6f49513c",
   "metadata": {},
   "outputs": [
    {
     "data": {
      "image/png": "[encoded data removed]",
      "text/plain": [
       "<Figure size 360x360 with 1 Axes>"
      ]
     },
     "metadata": {},
     "output_type": "display_data"
    }
   ],
   "source": [
    "max_val = np.max(clf.negative_outlier_factor_[np.where(outliers_LOF==-1)])\n",
    "min_val = np.min(clf.negative_outlier_factor_[np.where(outliers_LOF==-1)])\n",
    "\n",
    "sns.displot(clf.negative_outlier_factor_, kind=\"hist\" , kde = True)\n",
    "plt.axvline(max_val, c='r')\n",
    "plt.axvline(min_val, c='g')\n",
    "#plt.title('Local Outlier Factor', fontsize=15)\n",
    "plt.xlabel(\"Negative Outlier Factor\")\n",
    "plt.show()"
   ]
  },
  {
   "cell_type": "code",
   "execution_count": 363,
   "id": "70e96a48",
   "metadata": {},
   "outputs": [
    {
     "data": {
      "text/plain": [
       "(array([ 263,  521,  662,  698,  915, 1001, 1236, 1256, 1257, 1777, 1784,\n",
       "        1797, 1816, 1817, 1986, 2145, 3195]),)"
      ]
     },
     "execution_count": 363,
     "metadata": {},
     "output_type": "execute_result"
    }
   ],
   "source": [
    "LOF_outliers_train_motion = np.where(outliers_LOF==-1)\n",
    "LOF_outliers_train_motion"
   ]
  },
  {
   "cell_type": "code",
   "execution_count": 364,
   "id": "00f04ba4",
   "metadata": {},
   "outputs": [
    {
     "data": {
      "text/plain": [
       "array([1236, 1816, 1817])"
      ]
     },
     "execution_count": 364,
     "metadata": {},
     "output_type": "execute_result"
    }
   ],
   "source": [
    "np.intersect1d(LOF_outliers_train_motion, iso_outliers_train_motion)"
   ]
  },
  {
   "cell_type": "code",
   "execution_count": 365,
   "id": "81b23f03",
   "metadata": {},
   "outputs": [
    {
     "data": {
      "text/plain": [
       "array([ 915, 1777, 1797, 1816])"
      ]
     },
     "execution_count": 365,
     "metadata": {},
     "output_type": "execute_result"
    }
   ],
   "source": [
    "np.intersect1d(abod_outliers_train_motion, LOF_outliers_train_motion)"
   ]
  },
  {
   "cell_type": "markdown",
   "id": "012fef78",
   "metadata": {},
   "source": [
    "### Static activities"
   ]
  },
  {
   "cell_type": "code",
   "execution_count": 366,
   "id": "7b90958d",
   "metadata": {},
   "outputs": [],
   "source": [
    "clf = LocalOutlierFactor(contamination = 0.005)\n",
    "outliers_LOF = clf.fit_predict(X_train_static)"
   ]
  },
  {
   "cell_type": "code",
   "execution_count": 367,
   "id": "b16f4a43",
   "metadata": {},
   "outputs": [
    {
     "data": {
      "text/plain": [
       "(array([-1,  1]), array([  21, 4046]))"
      ]
     },
     "execution_count": 367,
     "metadata": {},
     "output_type": "execute_result"
    }
   ],
   "source": [
    "np.unique(outliers_LOF, return_counts=True)\n",
    "# -1 stand for outliers, 1 stand for inliers"
   ]
  },
  {
   "cell_type": "code",
   "execution_count": 369,
   "id": "90492617",
   "metadata": {},
   "outputs": [
    {
     "data": {
      "image/png": "[encoded data removed]",
      "text/plain": [
       "<Figure size 360x360 with 1 Axes>"
      ]
     },
     "metadata": {},
     "output_type": "display_data"
    }
   ],
   "source": [
    "max_val = np.max(clf.negative_outlier_factor_[np.where(outliers_LOF==-1)])\n",
    "min_val = np.min(clf.negative_outlier_factor_[np.where(outliers_LOF==-1)])\n",
    "\n",
    "sns.displot(clf.negative_outlier_factor_, kind=\"hist\" , kde = True)\n",
    "plt.axvline(max_val, c='r')\n",
    "plt.axvline(min_val, c='g')\n",
    "#plt.title('Local Outlier Factor', fontsize=15)\n",
    "plt.xlabel(\"Negative Outlier Factor\")\n",
    "plt.show()"
   ]
  },
  {
   "cell_type": "code",
   "execution_count": 300,
   "id": "6a3946c5",
   "metadata": {},
   "outputs": [
    {
     "data": {
      "text/plain": [
       "(array([   0,   71,  140,  191,  192,  279,  602,  899,  928,  953, 1084,\n",
       "        1097, 1260, 1525, 1677, 2025, 2527, 2614, 2615, 2629, 2787]),)"
      ]
     },
     "execution_count": 300,
     "metadata": {},
     "output_type": "execute_result"
    }
   ],
   "source": [
    "LOF_outliers_train_static = np.where(outliers_LOF==-1)\n",
    "LOF_outliers_train_static"
   ]
  },
  {
   "cell_type": "code",
   "execution_count": 301,
   "id": "9b799a9d",
   "metadata": {},
   "outputs": [
    {
     "data": {
      "text/plain": [
       "array([  71,  140,  279,  953, 1260, 1525, 2025])"
      ]
     },
     "execution_count": 301,
     "metadata": {},
     "output_type": "execute_result"
    }
   ],
   "source": [
    "np.intersect1d(abod_outliers_train_static, LOF_outliers_train_static)"
   ]
  },
  {
   "cell_type": "code",
   "execution_count": 302,
   "id": "0448c2c9",
   "metadata": {},
   "outputs": [
    {
     "data": {
      "text/plain": [
       "array([  71,  140,  279, 1260])"
      ]
     },
     "execution_count": 302,
     "metadata": {},
     "output_type": "execute_result"
    }
   ],
   "source": [
    "np.intersect1d(LOF_outliers_train_static, iso_outliers_train_static)"
   ]
  },
  {
   "cell_type": "markdown",
   "id": "a1b33ff8",
   "metadata": {},
   "source": [
    "## OULIERS COMPARISON"
   ]
  },
  {
   "cell_type": "code",
   "execution_count": 312,
   "id": "ce76119d",
   "metadata": {},
   "outputs": [],
   "source": [
    "from functools import reduce"
   ]
  },
  {
   "cell_type": "markdown",
   "id": "25d85ec1",
   "metadata": {},
   "source": [
    "### MOTION ACTIVITIES"
   ]
  },
  {
   "cell_type": "code",
   "execution_count": 331,
   "id": "cec07f47",
   "metadata": {},
   "outputs": [
    {
     "data": {
      "text/plain": [
       "(array([ 625,  628,  637,  847,  915, 1161, 1224, 1777, 1797, 1812, 1816,\n",
       "        1818, 1820, 1821, 2144, 2184, 2244]),)"
      ]
     },
     "execution_count": 331,
     "metadata": {},
     "output_type": "execute_result"
    }
   ],
   "source": [
    "abod_outliers_train_motion"
   ]
  },
  {
   "cell_type": "code",
   "execution_count": 324,
   "id": "4cae554a",
   "metadata": {},
   "outputs": [
    {
     "data": {
      "text/plain": [
       "(array([ 263,  521,  662,  698,  915, 1001, 1236, 1256, 1257, 1777, 1784,\n",
       "        1797, 1816, 1817, 1986, 2145, 3195]),)"
      ]
     },
     "execution_count": 324,
     "metadata": {},
     "output_type": "execute_result"
    }
   ],
   "source": [
    "LOF_outliers_train_motion"
   ]
  },
  {
   "cell_type": "code",
   "execution_count": 325,
   "id": "e85f1426",
   "metadata": {},
   "outputs": [
    {
     "data": {
      "text/plain": [
       "(array([ 628, 1229, 1236, 1810, 1811, 1812, 1814, 1816, 1817, 1818, 1819,\n",
       "        1820, 1821, 1836, 1837, 1839, 1840]),)"
      ]
     },
     "execution_count": 325,
     "metadata": {},
     "output_type": "execute_result"
    }
   ],
   "source": [
    "iso_outliers_train_motion"
   ]
  },
  {
   "cell_type": "code",
   "execution_count": 310,
   "id": "f76dc069",
   "metadata": {},
   "outputs": [
    {
     "data": {
      "text/plain": [
       "array([1816])"
      ]
     },
     "execution_count": 310,
     "metadata": {},
     "output_type": "execute_result"
    }
   ],
   "source": [
    "# outliers in common \n",
    "reduce(np.intersect1d, (abod_outliers_train_motion, LOF_outliers_train_motion, iso_outliers_train_motion))"
   ]
  },
  {
   "cell_type": "code",
   "execution_count": 370,
   "id": "2decf902",
   "metadata": {},
   "outputs": [
    {
     "data": {
      "text/plain": [
       "array([ 628, 1812, 1816, 1818, 1820, 1821])"
      ]
     },
     "execution_count": 370,
     "metadata": {},
     "output_type": "execute_result"
    }
   ],
   "source": [
    "np.intersect1d(abod_outliers_train_motion, iso_outliers_train_motion)"
   ]
  },
  {
   "cell_type": "code",
   "execution_count": 371,
   "id": "389d7279",
   "metadata": {},
   "outputs": [
    {
     "data": {
      "text/plain": [
       "array([ 915, 1777, 1797, 1816])"
      ]
     },
     "execution_count": 371,
     "metadata": {},
     "output_type": "execute_result"
    }
   ],
   "source": [
    "np.intersect1d(abod_outliers_train_motion,LOF_outliers_train_motion )"
   ]
  },
  {
   "cell_type": "code",
   "execution_count": 372,
   "id": "aabcf862",
   "metadata": {},
   "outputs": [
    {
     "data": {
      "text/plain": [
       "array([1236, 1816, 1817])"
      ]
     },
     "execution_count": 372,
     "metadata": {},
     "output_type": "execute_result"
    }
   ],
   "source": [
    "np.intersect1d(LOF_outliers_train_motion , iso_outliers_train_motion)"
   ]
  },
  {
   "cell_type": "markdown",
   "id": "a697823a",
   "metadata": {},
   "source": [
    "### STATIC ACTIVITIES"
   ]
  },
  {
   "cell_type": "code",
   "execution_count": 306,
   "id": "79607bd4",
   "metadata": {},
   "outputs": [
    {
     "data": {
      "text/plain": [
       "(array([  67,   71,  140,  279,  292,  309,  432,  617,  924,  937,  953,\n",
       "        1014, 1260, 1525, 1602, 1735, 1853, 2025, 2243, 2858, 2862]),)"
      ]
     },
     "execution_count": 306,
     "metadata": {},
     "output_type": "execute_result"
    }
   ],
   "source": [
    "abod_outliers_train_static"
   ]
  },
  {
   "cell_type": "code",
   "execution_count": 307,
   "id": "7ff60b65",
   "metadata": {},
   "outputs": [
    {
     "data": {
      "text/plain": [
       "(array([   0,   71,  140,  191,  192,  279,  602,  899,  928,  953, 1084,\n",
       "        1097, 1260, 1525, 1677, 2025, 2527, 2614, 2615, 2629, 2787]),)"
      ]
     },
     "execution_count": 307,
     "metadata": {},
     "output_type": "execute_result"
    }
   ],
   "source": [
    "LOF_outliers_train_static"
   ]
  },
  {
   "cell_type": "code",
   "execution_count": 308,
   "id": "642475bf",
   "metadata": {},
   "outputs": [
    {
     "data": {
      "text/plain": [
       "(array([  66,   67,   70,   71,  139,  140,  150,  279,  404,  549,  617,\n",
       "         618,  700,  937, 1249, 1260, 2118, 2254, 2544, 2564, 3663]),)"
      ]
     },
     "execution_count": 308,
     "metadata": {},
     "output_type": "execute_result"
    }
   ],
   "source": [
    "iso_outliers_train_static"
   ]
  },
  {
   "cell_type": "code",
   "execution_count": 311,
   "id": "7e2f9ef7",
   "metadata": {},
   "outputs": [
    {
     "data": {
      "text/plain": [
       "array([  71,  140,  279, 1260])"
      ]
     },
     "execution_count": 311,
     "metadata": {},
     "output_type": "execute_result"
    }
   ],
   "source": [
    "# outliers in common \n",
    "reduce(np.intersect1d, (abod_outliers_train_static, LOF_outliers_train_static, iso_outliers_train_static))"
   ]
  },
  {
   "cell_type": "code",
   "execution_count": 373,
   "id": "2959bda9",
   "metadata": {},
   "outputs": [
    {
     "data": {
      "text/plain": [
       "array([  67,   71,  140,  279,  617,  937, 1260])"
      ]
     },
     "execution_count": 373,
     "metadata": {},
     "output_type": "execute_result"
    }
   ],
   "source": [
    "np.intersect1d(abod_outliers_train_static, iso_outliers_train_static)"
   ]
  },
  {
   "cell_type": "code",
   "execution_count": 374,
   "id": "5f4282f9",
   "metadata": {},
   "outputs": [
    {
     "data": {
      "text/plain": [
       "array([  71,  140,  279,  953, 1260, 1525, 2025])"
      ]
     },
     "execution_count": 374,
     "metadata": {},
     "output_type": "execute_result"
    }
   ],
   "source": [
    "np.intersect1d(abod_outliers_train_static,LOF_outliers_train_static)"
   ]
  },
  {
   "cell_type": "code",
   "execution_count": 375,
   "id": "e7b309bc",
   "metadata": {},
   "outputs": [
    {
     "data": {
      "text/plain": [
       "array([  71,  140,  279, 1260])"
      ]
     },
     "execution_count": 375,
     "metadata": {},
     "output_type": "execute_result"
    }
   ],
   "source": [
    "np.intersect1d(LOF_outliers_train_static, iso_outliers_train_static)"
   ]
  },
  {
   "cell_type": "markdown",
   "id": "612059fa",
   "metadata": {},
   "source": [
    "## Building the csv New_train"
   ]
  },
  {
   "cell_type": "markdown",
   "id": "7e85c40f",
   "metadata": {},
   "source": [
    "__Adding a column named Outlier_label to the dataframe__"
   ]
  },
  {
   "cell_type": "code",
   "execution_count": null,
   "id": "8a3c8fb4",
   "metadata": {},
   "outputs": [],
   "source": [
    "X_train_motion[\"Outlier_label\"] = list_outliers_motion_train"
   ]
  },
  {
   "cell_type": "code",
   "execution_count": null,
   "id": "1465418b",
   "metadata": {},
   "outputs": [],
   "source": [
    "X_train_static[\"Outlier_label\"] = list_outliers_static_train"
   ]
  },
  {
   "cell_type": "code",
   "execution_count": null,
   "id": "16dcf722",
   "metadata": {},
   "outputs": [],
   "source": [
    "New_X_train = pd.concat([X_train_static,X_train_motion])"
   ]
  },
  {
   "cell_type": "code",
   "execution_count": null,
   "id": "d2b6a58e",
   "metadata": {},
   "outputs": [],
   "source": [
    "#New_X_train[New_X_train[\"Outlier_label\"]==-1]"
   ]
  },
  {
   "cell_type": "code",
   "execution_count": null,
   "id": "dc5ae85f",
   "metadata": {},
   "outputs": [],
   "source": [
    "df_train[\"Outlier_label\"] = New_X_train[\"Outlier_label\"]"
   ]
  },
  {
   "cell_type": "code",
   "execution_count": null,
   "id": "1c193015",
   "metadata": {},
   "outputs": [],
   "source": [
    "#df_train[df_train[\"Outlier_label\"]==-1]"
   ]
  },
  {
   "cell_type": "code",
   "execution_count": null,
   "id": "f88e90ac",
   "metadata": {},
   "outputs": [],
   "source": [
    "df_train.to_csv('csv/New_train.csv', index=False )"
   ]
  },
  {
   "cell_type": "code",
   "execution_count": null,
   "id": "86d4aa5f",
   "metadata": {},
   "outputs": [],
   "source": [
    "df_test.to_csv('csv/New_test.csv', index=False )"
   ]
  }
 ],
 "metadata": {
  "kernelspec": {
   "display_name": "Python 3",
   "language": "python",
   "name": "python3"
  },
  "language_info": {
   "codemirror_mode": {
    "name": "ipython",
    "version": 3
   },
   "file_extension": ".py",
   "mimetype": "text/x-python",
   "name": "python",
   "nbconvert_exporter": "python",
   "pygments_lexer": "ipython3",
   "version": "3.8.8"
  }
 },
 "nbformat": 4,
 "nbformat_minor": 5
}
